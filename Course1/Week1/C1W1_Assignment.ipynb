{
  "nbformat": 4,
  "nbformat_minor": 0,
  "metadata": {
    "colab": {
      "name": "C1W1_Assignment",
      "provenance": [],
      "include_colab_link": true
    },
    "kernelspec": {
      "display_name": "Python 3",
      "language": "python",
      "name": "python3"
    },
    "language_info": {
      "codemirror_mode": {
        "name": "ipython",
        "version": 3
      },
      "file_extension": ".py",
      "mimetype": "text/x-python",
      "name": "python",
      "nbconvert_exporter": "python",
      "pygments_lexer": "ipython3",
      "version": "3.7.6"
    }
  },
  "cells": [
    {
      "cell_type": "markdown",
      "metadata": {
        "id": "view-in-github",
        "colab_type": "text"
      },
      "source": [
        "<a href=\"https://colab.research.google.com/github/Smfatima/Tensorflow-Advance-technique/blob/main/Course1/Week1/C1W1_Assignment.ipynb\" target=\"_parent\"><img src=\"https://colab.research.google.com/assets/colab-badge.svg\" alt=\"Open In Colab\"/></a>"
      ]
    },
    {
      "cell_type": "markdown",
      "metadata": {
        "id": "ZL_6GK8qX35J"
      },
      "source": [
        "\n",
        "\n",
        "# Week 1: Multiple Output Models using the Keras Functional API\n",
        "\n",
        "Welcome to the first programming assignment of the course! Your task will be to use the Keras functional API to train a model to predict two outputs. For this lab, you will use the **[Wine Quality Dataset](https://archive.ics.uci.edu/ml/datasets/Wine+Quality)** from the **UCI machine learning repository**. It has separate datasets for red wine and white wine.\n",
        "\n",
        "Normally, the wines are classified into one of the quality ratings specified in the attributes. In this exercise, you will combine the two datasets to predict the wine quality and whether the wine is red or white solely from the attributes. \n",
        "\n",
        "You will model wine quality estimations as a regression problem and wine type detection as a binary classification problem.\n",
        "\n",
        "#### Please complete sections that are marked **(TODO)**"
      ]
    },
    {
      "cell_type": "markdown",
      "metadata": {
        "id": "obdcD6urYBY9"
      },
      "source": [
        "## Imports"
      ]
    },
    {
      "cell_type": "code",
      "metadata": {
        "id": "t8N3pcTQ5oQI"
      },
      "source": [
        "import tensorflow as tf\n",
        "from tensorflow.keras.models import Model\n",
        "from tensorflow.keras.layers import Dense, Input\n",
        "\n",
        "import numpy as np\n",
        "import matplotlib.pyplot as plt\n",
        "import pandas as pd\n",
        "from sklearn.model_selection import train_test_split\n",
        "from sklearn.metrics import confusion_matrix\n",
        "import itertools\n",
        "\n",
        "import utils"
      ],
      "execution_count": null,
      "outputs": []
    },
    {
      "cell_type": "markdown",
      "metadata": {
        "id": "gQMERzWQYpgm"
      },
      "source": [
        "## Load Dataset\n",
        "\n",
        "\n",
        "You will now download the dataset from the [UCI Machine Learning Repository](https://archive.ics.uci.edu/ml/index.php). \n",
        "\n",
        "### Pre-process the white wine dataset (TODO)\n",
        "You will add a new column named `is_red` in your dataframe to indicate if the wine is white or red. \n",
        "- In the white wine dataset, you will fill the column `is_red` with  zeros (0)."
      ]
    },
    {
      "cell_type": "code",
      "metadata": {
        "deletable": false,
        "id": "2qYAjKXCd4RH",
        "nbgrader": {
          "cell_type": "code",
          "checksum": "cb9f284ba6255170fe04a309a407d72d",
          "grade": false,
          "grade_id": "cell-e5bfa0f152d9a21f",
          "locked": false,
          "schema_version": 3,
          "solution": true,
          "task": false
        },
        "outputId": "478b1374-5868-4e7e-c2fd-105a9906f47c"
      },
      "source": [
        "## Please uncomment all lines in this cell and replace those marked with `# YOUR CODE HERE`.\n",
        "## You can select all lines in this code cell with Ctrl+A (Windows/Linux) or Cmd+A (Mac), then press Ctrl+/ (Windows/Linux) or Cmd+/ (Mac) to uncomment.\n",
        "\n",
        "\n",
        "\n",
        "# URL of the white wine dataset\n",
        "URL = 'http://archive.ics.uci.edu/ml/machine-learning-databases/wine-quality/winequality-white.csv'\n",
        "\n",
        "# load the dataset from the URL\n",
        "white_df = pd.read_csv(URL, sep=\";\")\n",
        "\n",
        "\n",
        "\n",
        "# fill the `is_red` column with zeros.\n",
        "white_df[\"is_red\"] = 0 # YOUR CODE HERE\n",
        "\n",
        "# keep only the first of duplicate items\n",
        "white_df = white_df.drop_duplicates(keep='first')\n",
        "\n",
        "white_df"
      ],
      "execution_count": null,
      "outputs": [
        {
          "output_type": "execute_result",
          "data": {
            "text/html": [
              "<div>\n",
              "<style scoped>\n",
              "    .dataframe tbody tr th:only-of-type {\n",
              "        vertical-align: middle;\n",
              "    }\n",
              "\n",
              "    .dataframe tbody tr th {\n",
              "        vertical-align: top;\n",
              "    }\n",
              "\n",
              "    .dataframe thead th {\n",
              "        text-align: right;\n",
              "    }\n",
              "</style>\n",
              "<table border=\"1\" class=\"dataframe\">\n",
              "  <thead>\n",
              "    <tr style=\"text-align: right;\">\n",
              "      <th></th>\n",
              "      <th>fixed acidity</th>\n",
              "      <th>volatile acidity</th>\n",
              "      <th>citric acid</th>\n",
              "      <th>residual sugar</th>\n",
              "      <th>chlorides</th>\n",
              "      <th>free sulfur dioxide</th>\n",
              "      <th>total sulfur dioxide</th>\n",
              "      <th>density</th>\n",
              "      <th>pH</th>\n",
              "      <th>sulphates</th>\n",
              "      <th>alcohol</th>\n",
              "      <th>quality</th>\n",
              "      <th>is_red</th>\n",
              "    </tr>\n",
              "  </thead>\n",
              "  <tbody>\n",
              "    <tr>\n",
              "      <th>0</th>\n",
              "      <td>7.0</td>\n",
              "      <td>0.27</td>\n",
              "      <td>0.36</td>\n",
              "      <td>20.7</td>\n",
              "      <td>0.045</td>\n",
              "      <td>45.0</td>\n",
              "      <td>170.0</td>\n",
              "      <td>1.00100</td>\n",
              "      <td>3.00</td>\n",
              "      <td>0.45</td>\n",
              "      <td>8.8</td>\n",
              "      <td>6</td>\n",
              "      <td>0</td>\n",
              "    </tr>\n",
              "    <tr>\n",
              "      <th>1</th>\n",
              "      <td>6.3</td>\n",
              "      <td>0.30</td>\n",
              "      <td>0.34</td>\n",
              "      <td>1.6</td>\n",
              "      <td>0.049</td>\n",
              "      <td>14.0</td>\n",
              "      <td>132.0</td>\n",
              "      <td>0.99400</td>\n",
              "      <td>3.30</td>\n",
              "      <td>0.49</td>\n",
              "      <td>9.5</td>\n",
              "      <td>6</td>\n",
              "      <td>0</td>\n",
              "    </tr>\n",
              "    <tr>\n",
              "      <th>2</th>\n",
              "      <td>8.1</td>\n",
              "      <td>0.28</td>\n",
              "      <td>0.40</td>\n",
              "      <td>6.9</td>\n",
              "      <td>0.050</td>\n",
              "      <td>30.0</td>\n",
              "      <td>97.0</td>\n",
              "      <td>0.99510</td>\n",
              "      <td>3.26</td>\n",
              "      <td>0.44</td>\n",
              "      <td>10.1</td>\n",
              "      <td>6</td>\n",
              "      <td>0</td>\n",
              "    </tr>\n",
              "    <tr>\n",
              "      <th>3</th>\n",
              "      <td>7.2</td>\n",
              "      <td>0.23</td>\n",
              "      <td>0.32</td>\n",
              "      <td>8.5</td>\n",
              "      <td>0.058</td>\n",
              "      <td>47.0</td>\n",
              "      <td>186.0</td>\n",
              "      <td>0.99560</td>\n",
              "      <td>3.19</td>\n",
              "      <td>0.40</td>\n",
              "      <td>9.9</td>\n",
              "      <td>6</td>\n",
              "      <td>0</td>\n",
              "    </tr>\n",
              "    <tr>\n",
              "      <th>6</th>\n",
              "      <td>6.2</td>\n",
              "      <td>0.32</td>\n",
              "      <td>0.16</td>\n",
              "      <td>7.0</td>\n",
              "      <td>0.045</td>\n",
              "      <td>30.0</td>\n",
              "      <td>136.0</td>\n",
              "      <td>0.99490</td>\n",
              "      <td>3.18</td>\n",
              "      <td>0.47</td>\n",
              "      <td>9.6</td>\n",
              "      <td>6</td>\n",
              "      <td>0</td>\n",
              "    </tr>\n",
              "    <tr>\n",
              "      <th>...</th>\n",
              "      <td>...</td>\n",
              "      <td>...</td>\n",
              "      <td>...</td>\n",
              "      <td>...</td>\n",
              "      <td>...</td>\n",
              "      <td>...</td>\n",
              "      <td>...</td>\n",
              "      <td>...</td>\n",
              "      <td>...</td>\n",
              "      <td>...</td>\n",
              "      <td>...</td>\n",
              "      <td>...</td>\n",
              "      <td>...</td>\n",
              "    </tr>\n",
              "    <tr>\n",
              "      <th>4893</th>\n",
              "      <td>6.2</td>\n",
              "      <td>0.21</td>\n",
              "      <td>0.29</td>\n",
              "      <td>1.6</td>\n",
              "      <td>0.039</td>\n",
              "      <td>24.0</td>\n",
              "      <td>92.0</td>\n",
              "      <td>0.99114</td>\n",
              "      <td>3.27</td>\n",
              "      <td>0.50</td>\n",
              "      <td>11.2</td>\n",
              "      <td>6</td>\n",
              "      <td>0</td>\n",
              "    </tr>\n",
              "    <tr>\n",
              "      <th>4894</th>\n",
              "      <td>6.6</td>\n",
              "      <td>0.32</td>\n",
              "      <td>0.36</td>\n",
              "      <td>8.0</td>\n",
              "      <td>0.047</td>\n",
              "      <td>57.0</td>\n",
              "      <td>168.0</td>\n",
              "      <td>0.99490</td>\n",
              "      <td>3.15</td>\n",
              "      <td>0.46</td>\n",
              "      <td>9.6</td>\n",
              "      <td>5</td>\n",
              "      <td>0</td>\n",
              "    </tr>\n",
              "    <tr>\n",
              "      <th>4895</th>\n",
              "      <td>6.5</td>\n",
              "      <td>0.24</td>\n",
              "      <td>0.19</td>\n",
              "      <td>1.2</td>\n",
              "      <td>0.041</td>\n",
              "      <td>30.0</td>\n",
              "      <td>111.0</td>\n",
              "      <td>0.99254</td>\n",
              "      <td>2.99</td>\n",
              "      <td>0.46</td>\n",
              "      <td>9.4</td>\n",
              "      <td>6</td>\n",
              "      <td>0</td>\n",
              "    </tr>\n",
              "    <tr>\n",
              "      <th>4896</th>\n",
              "      <td>5.5</td>\n",
              "      <td>0.29</td>\n",
              "      <td>0.30</td>\n",
              "      <td>1.1</td>\n",
              "      <td>0.022</td>\n",
              "      <td>20.0</td>\n",
              "      <td>110.0</td>\n",
              "      <td>0.98869</td>\n",
              "      <td>3.34</td>\n",
              "      <td>0.38</td>\n",
              "      <td>12.8</td>\n",
              "      <td>7</td>\n",
              "      <td>0</td>\n",
              "    </tr>\n",
              "    <tr>\n",
              "      <th>4897</th>\n",
              "      <td>6.0</td>\n",
              "      <td>0.21</td>\n",
              "      <td>0.38</td>\n",
              "      <td>0.8</td>\n",
              "      <td>0.020</td>\n",
              "      <td>22.0</td>\n",
              "      <td>98.0</td>\n",
              "      <td>0.98941</td>\n",
              "      <td>3.26</td>\n",
              "      <td>0.32</td>\n",
              "      <td>11.8</td>\n",
              "      <td>6</td>\n",
              "      <td>0</td>\n",
              "    </tr>\n",
              "  </tbody>\n",
              "</table>\n",
              "<p>3961 rows × 13 columns</p>\n",
              "</div>"
            ],
            "text/plain": [
              "      fixed acidity  volatile acidity  citric acid  residual sugar  chlorides  \\\n",
              "0               7.0              0.27         0.36            20.7      0.045   \n",
              "1               6.3              0.30         0.34             1.6      0.049   \n",
              "2               8.1              0.28         0.40             6.9      0.050   \n",
              "3               7.2              0.23         0.32             8.5      0.058   \n",
              "6               6.2              0.32         0.16             7.0      0.045   \n",
              "...             ...               ...          ...             ...        ...   \n",
              "4893            6.2              0.21         0.29             1.6      0.039   \n",
              "4894            6.6              0.32         0.36             8.0      0.047   \n",
              "4895            6.5              0.24         0.19             1.2      0.041   \n",
              "4896            5.5              0.29         0.30             1.1      0.022   \n",
              "4897            6.0              0.21         0.38             0.8      0.020   \n",
              "\n",
              "      free sulfur dioxide  total sulfur dioxide  density    pH  sulphates  \\\n",
              "0                    45.0                 170.0  1.00100  3.00       0.45   \n",
              "1                    14.0                 132.0  0.99400  3.30       0.49   \n",
              "2                    30.0                  97.0  0.99510  3.26       0.44   \n",
              "3                    47.0                 186.0  0.99560  3.19       0.40   \n",
              "6                    30.0                 136.0  0.99490  3.18       0.47   \n",
              "...                   ...                   ...      ...   ...        ...   \n",
              "4893                 24.0                  92.0  0.99114  3.27       0.50   \n",
              "4894                 57.0                 168.0  0.99490  3.15       0.46   \n",
              "4895                 30.0                 111.0  0.99254  2.99       0.46   \n",
              "4896                 20.0                 110.0  0.98869  3.34       0.38   \n",
              "4897                 22.0                  98.0  0.98941  3.26       0.32   \n",
              "\n",
              "      alcohol  quality  is_red  \n",
              "0         8.8        6       0  \n",
              "1         9.5        6       0  \n",
              "2        10.1        6       0  \n",
              "3         9.9        6       0  \n",
              "6         9.6        6       0  \n",
              "...       ...      ...     ...  \n",
              "4893     11.2        6       0  \n",
              "4894      9.6        5       0  \n",
              "4895      9.4        6       0  \n",
              "4896     12.8        7       0  \n",
              "4897     11.8        6       0  \n",
              "\n",
              "[3961 rows x 13 columns]"
            ]
          },
          "metadata": {
            "tags": []
          },
          "execution_count": 2
        }
      ]
    },
    {
      "cell_type": "code",
      "metadata": {
        "deletable": false,
        "editable": false,
        "nbgrader": {
          "cell_type": "code",
          "checksum": "defe38d6ec58fd31cd67b89e46c4373f",
          "grade": true,
          "grade_id": "cell-30575e713b55fc51",
          "locked": true,
          "points": 1,
          "schema_version": 3,
          "solution": false,
          "task": false
        },
        "id": "DNmlI-EQDlwE",
        "outputId": "e0a8e3a1-9e23-4b46-fc2c-4dc7aaef6c8c"
      },
      "source": [
        "# You can click `File -> Open` in the menu above and open the `utils.py` file \n",
        "# in case you want to inspect the unit tests being used for each graded function.\n",
        "\n",
        "utils.test_white_df(white_df)\n"
      ],
      "execution_count": null,
      "outputs": [
        {
          "output_type": "stream",
          "text": [
            "\u001b[92m All public tests passed\n"
          ],
          "name": "stdout"
        }
      ]
    },
    {
      "cell_type": "code",
      "metadata": {
        "id": "OQHK0ohBQRCk",
        "outputId": "ac62ef71-caee-478c-d1b0-04e929d57eea"
      },
      "source": [
        "print(white_df.alcohol[0])\n",
        "print(white_df.alcohol[100])\n",
        "\n",
        "# EXPECTED OUTPUT\n",
        "# 8.8\n",
        "# 9.1"
      ],
      "execution_count": null,
      "outputs": [
        {
          "output_type": "stream",
          "text": [
            "8.8\n",
            "9.1\n"
          ],
          "name": "stdout"
        }
      ]
    },
    {
      "cell_type": "markdown",
      "metadata": {
        "id": "Zz2Bdtw5DlwG"
      },
      "source": [
        "### Pre-process the red wine dataset (TODO)\n",
        "- In the red wine dataset, you will fill in the column `is_red` with ones (1)."
      ]
    },
    {
      "cell_type": "code",
      "metadata": {
        "deletable": false,
        "id": "8y3QxKwBed8v",
        "nbgrader": {
          "cell_type": "code",
          "checksum": "be72275f78e2c2d0038dde9aa63f8d4f",
          "grade": false,
          "grade_id": "cell-e47a40f306593274",
          "locked": false,
          "schema_version": 3,
          "solution": true,
          "task": false
        }
      },
      "source": [
        "# Please uncomment all lines in this cell and replace those marked with `# YOUR CODE HERE`.\n",
        "# You can select all lines in this code cell with Ctrl+A (Windows/Linux) or Cmd+A (Mac), then press Ctrl+/ (Windows/Linux) or Cmd+/ (Mac) to uncomment.\n",
        "\n",
        "\n",
        "\n",
        "# URL of the red wine dataset\n",
        "URL = 'http://archive.ics.uci.edu/ml/machine-learning-databases/wine-quality/winequality-red.csv'\n",
        "\n",
        "# load the dataset from the URL\n",
        "red_df = pd.read_csv(URL, sep=\";\")\n",
        "\n",
        "# fill the `is_red` column with ones.\n",
        "red_df[\"is_red\"] = 1 # YOUR CODE HERE\n",
        "\n",
        "# keep only the first of duplicate items\n",
        "red_df = red_df.drop_duplicates(keep='first')\n"
      ],
      "execution_count": null,
      "outputs": []
    },
    {
      "cell_type": "code",
      "metadata": {
        "deletable": false,
        "editable": false,
        "nbgrader": {
          "cell_type": "code",
          "checksum": "d8e0c91b0fd668b63ba74a8f2f958b59",
          "grade": true,
          "grade_id": "cell-2a75937adcc0c25b",
          "locked": true,
          "points": 1,
          "schema_version": 3,
          "solution": false,
          "task": false
        },
        "id": "IKFuvaTQDlwH",
        "outputId": "dfd4c944-2310-41df-eeea-c837c02f3b11"
      },
      "source": [
        "utils.test_red_df(red_df)\n"
      ],
      "execution_count": null,
      "outputs": [
        {
          "output_type": "stream",
          "text": [
            "\u001b[92m All public tests passed\n"
          ],
          "name": "stdout"
        }
      ]
    },
    {
      "cell_type": "code",
      "metadata": {
        "id": "zsB3LUzNQpo_",
        "outputId": "6d740b45-dbf9-4798-e7da-be475c016f76"
      },
      "source": [
        "print(red_df.alcohol[0])\n",
        "print(red_df.alcohol[100])\n",
        "\n",
        "# EXPECTED OUTPUT\n",
        "# 9.4\n",
        "# 10.2"
      ],
      "execution_count": null,
      "outputs": [
        {
          "output_type": "stream",
          "text": [
            "9.4\n",
            "10.2\n"
          ],
          "name": "stdout"
        }
      ]
    },
    {
      "cell_type": "markdown",
      "metadata": {
        "id": "2G8B-NYuM6-f"
      },
      "source": [
        "### Concatenate the datasets\n",
        "\n",
        "Next, concatenate the red and white wine dataframes."
      ]
    },
    {
      "cell_type": "code",
      "metadata": {
        "id": "YpQrOjJbfN3m"
      },
      "source": [
        "df = pd.concat([red_df, white_df], ignore_index=True)"
      ],
      "execution_count": null,
      "outputs": []
    },
    {
      "cell_type": "code",
      "metadata": {
        "id": "Se2dTmThQyjb",
        "outputId": "2ed5a872-a0c3-453b-8c87-5d0a7241d4c5"
      },
      "source": [
        "print(df.alcohol[0])\n",
        "print(df.alcohol[100])\n",
        "\n",
        "# EXPECTED OUTPUT\n",
        "# 9.4\n",
        "# 9.5"
      ],
      "execution_count": null,
      "outputs": [
        {
          "output_type": "stream",
          "text": [
            "9.4\n",
            "9.5\n"
          ],
          "name": "stdout"
        }
      ]
    },
    {
      "cell_type": "code",
      "metadata": {
        "id": "wx6y3rPpQv4k"
      },
      "source": [
        "# NOTE: In a real-world scenario, you should shuffle the data.\n",
        "# YOU ARE NOT going to do that here because we want to test\n",
        "# with deterministic data. But if you want the code to do it,\n",
        "# it's in the commented line below:\n",
        "\n",
        "#df = df.iloc[np.random.permutation(len(df))]"
      ],
      "execution_count": null,
      "outputs": []
    },
    {
      "cell_type": "markdown",
      "metadata": {
        "id": "-EqIcbg5M_n1"
      },
      "source": [
        "This will chart the quality of the wines."
      ]
    },
    {
      "cell_type": "code",
      "metadata": {
        "id": "IsvK0-Sgy17C",
        "outputId": "0293dff1-6e53-470b-a3ac-8eaaf18f6a5c"
      },
      "source": [
        "df['quality'].hist(bins=20);"
      ],
      "execution_count": null,
      "outputs": [
        {
          "output_type": "display_data",
          "data": {
            "image/png": "[encoded data removed]",
            "text/plain": [
              "<Figure size 432x288 with 1 Axes>"
            ]
          },
          "metadata": {
            "tags": [],
            "needs_background": "light"
          }
        }
      ]
    },
    {
      "cell_type": "markdown",
      "metadata": {
        "id": "Nut1rmYLzf-p"
      },
      "source": [
        "### Imbalanced data (TODO)\n",
        "You can see from the plot above that the wine quality dataset is imbalanced. \n",
        "- Since there are very few observations with quality equal to 3, 4, 8 and 9, you can drop these observations from your dataset. \n",
        "- You can do this by removing data belonging to all classes except those > 4 and < 8."
      ]
    },
    {
      "cell_type": "code",
      "metadata": {
        "deletable": false,
        "id": "doH9_-gnf3sz",
        "nbgrader": {
          "cell_type": "code",
          "checksum": "d9ba9fc3a3ca02ccc567be33652b80fe",
          "grade": false,
          "grade_id": "cell-6a3e9db696f6827b",
          "locked": false,
          "schema_version": 3,
          "solution": true,
          "task": false
        }
      },
      "source": [
        "# Please uncomment all lines in this cell and replace those marked with `# YOUR CODE HERE`.\n",
        "# You can select all lines in this code cell with Ctrl+A (Windows/Linux) or Cmd+A (Mac), then press Ctrl+/ (Windows/Linux) or Cmd+/ (Mac) to uncomment.\n",
        "\n",
        "\n",
        "\n",
        "# get data with wine quality greater than 4 and less than 8\n",
        "df = df[(df['quality'] > 4) & (df['quality'] < 8)] # YOUR CODE HERE) & (df['quality'] < YOUR CODE HERE )]\n",
        "\n",
        "# reset index and drop the old one\n",
        "df = df.reset_index(drop=True)"
      ],
      "execution_count": null,
      "outputs": []
    },
    {
      "cell_type": "code",
      "metadata": {
        "deletable": false,
        "editable": false,
        "nbgrader": {
          "cell_type": "code",
          "checksum": "281e1d86a4803560ed5892cd7eda4c01",
          "grade": true,
          "grade_id": "cell-aed3da719d4682c7",
          "locked": true,
          "points": 1,
          "schema_version": 3,
          "solution": false,
          "task": false
        },
        "id": "5Azd57GDDlwN",
        "outputId": "c5a13c29-c63f-4ada-b56a-424c09aa060e"
      },
      "source": [
        "utils.test_df_drop(df)\n",
        "\n"
      ],
      "execution_count": null,
      "outputs": [
        {
          "output_type": "stream",
          "text": [
            "\u001b[92m All public tests passed\n"
          ],
          "name": "stdout"
        }
      ]
    },
    {
      "cell_type": "code",
      "metadata": {
        "id": "xNR1iAlMRPXO",
        "outputId": "2ce48503-d02e-44b1-efa8-02f162682a2f"
      },
      "source": [
        "print(df.alcohol[0])\n",
        "print(df.alcohol[100])\n",
        "\n",
        "# EXPECTED OUTPUT\n",
        "# 9.4\n",
        "# 10.9"
      ],
      "execution_count": null,
      "outputs": [
        {
          "output_type": "stream",
          "text": [
            "9.4\n",
            "10.9\n"
          ],
          "name": "stdout"
        }
      ]
    },
    {
      "cell_type": "markdown",
      "metadata": {
        "id": "cwhuRpnVRTzG"
      },
      "source": [
        "You can plot again to see the new range of data and quality"
      ]
    },
    {
      "cell_type": "code",
      "metadata": {
        "id": "857ygzZiLgGg",
        "outputId": "d862ee26-2f81-4429-bae7-332905a74ab7"
      },
      "source": [
        "df['quality'].hist(bins=20);"
      ],
      "execution_count": null,
      "outputs": [
        {
          "output_type": "display_data",
          "data": {
            "image/png": "[encoded data removed]",
            "text/plain": [
              "<Figure size 432x288 with 1 Axes>"
            ]
          },
          "metadata": {
            "tags": [],
            "needs_background": "light"
          }
        }
      ]
    },
    {
      "cell_type": "markdown",
      "metadata": {
        "id": "n3k0vqSsp84t"
      },
      "source": [
        "### Train Test Split (TODO)\n",
        "\n",
        "Next, you can split the datasets into training, test and validation datasets.\n",
        "- The data frame should be split 80:20 into `train` and `test` sets.\n",
        "- The resulting `train` should then be split 80:20 into `train` and `val` sets.\n",
        "- The `train_test_split` parameter `test_size` takes a float value that ranges between 0. and 1, and represents the proportion of the dataset that is allocated to the test set.  The rest of the data is allocated to the training set."
      ]
    },
    {
      "cell_type": "code",
      "metadata": {
        "deletable": false,
        "id": "PAVIf2-fgRVY",
        "nbgrader": {
          "cell_type": "code",
          "checksum": "7f5738f4fb51d65adc9a8acbdf2b9970",
          "grade": false,
          "grade_id": "cell-91946cadf745206b",
          "locked": false,
          "schema_version": 3,
          "solution": true,
          "task": false
        }
      },
      "source": [
        "# Please uncomment all lines in this cell and replace those marked with `# YOUR CODE HERE`.\n",
        "# You can select all lines in this code cell with Ctrl+A (Windows/Linux) or Cmd+A (Mac), then press Ctrl+/ (Windows/Linux) or Cmd+/ (Mac) to uncomment.\n",
        "\n",
        "\n",
        "\n",
        "# Please do not change the random_state parameter. This is needed for grading.\n",
        "\n",
        "# split df into 80:20 train and test sets\n",
        "train, test = train_test_split(df, test_size=0.2, random_state = 1) # YOUR CODE HERE, random_state = 1)\n",
        "                               \n",
        "# split train into 80:20 train and val sets\n",
        "train, val = train_test_split(train, test_size=0.2, random_state = 1) # YOUR CODE HERE, random_state = 1)"
      ],
      "execution_count": null,
      "outputs": []
    },
    {
      "cell_type": "code",
      "metadata": {
        "deletable": false,
        "editable": false,
        "id": "57h9LcEzRWpk",
        "nbgrader": {
          "cell_type": "code",
          "checksum": "42adbe9e66efac7c7a5f8cd73ac92f22",
          "grade": true,
          "grade_id": "cell-64b8b38cd0b965f6",
          "locked": true,
          "points": 1,
          "schema_version": 3,
          "solution": false,
          "task": false
        },
        "outputId": "8938f97b-4860-4523-ad7b-fd57e3e26293"
      },
      "source": [
        "utils.test_data_sizes(train.size, test.size, val.size)\n",
        "\n"
      ],
      "execution_count": null,
      "outputs": [
        {
          "output_type": "stream",
          "text": [
            "\u001b[92m All public tests passed\n"
          ],
          "name": "stdout"
        }
      ]
    },
    {
      "cell_type": "markdown",
      "metadata": {
        "id": "RwTNu4KFqG-K"
      },
      "source": [
        "Here's where you can explore the training stats. You can pop the labels 'is_red' and 'quality' from the data as these will be used as the labels\n"
      ]
    },
    {
      "cell_type": "code",
      "metadata": {
        "id": "Y_afyhhHM6WQ"
      },
      "source": [
        "train_stats = train.describe()\n",
        "train_stats.pop('is_red')\n",
        "train_stats.pop('quality')\n",
        "train_stats = train_stats.transpose()"
      ],
      "execution_count": null,
      "outputs": []
    },
    {
      "cell_type": "markdown",
      "metadata": {
        "id": "ahvbYm4fNqSt"
      },
      "source": [
        "Explore the training stats!"
      ]
    },
    {
      "cell_type": "code",
      "metadata": {
        "id": "n_gAtPjZ0otF",
        "outputId": "eee8d2b1-a43d-46d3-e36f-a42ba9d7685b"
      },
      "source": [
        "train_stats"
      ],
      "execution_count": null,
      "outputs": [
        {
          "output_type": "execute_result",
          "data": {
            "text/html": [
              "<div>\n",
              "<style scoped>\n",
              "    .dataframe tbody tr th:only-of-type {\n",
              "        vertical-align: middle;\n",
              "    }\n",
              "\n",
              "    .dataframe tbody tr th {\n",
              "        vertical-align: top;\n",
              "    }\n",
              "\n",
              "    .dataframe thead th {\n",
              "        text-align: right;\n",
              "    }\n",
              "</style>\n",
              "<table border=\"1\" class=\"dataframe\">\n",
              "  <thead>\n",
              "    <tr style=\"text-align: right;\">\n",
              "      <th></th>\n",
              "      <th>count</th>\n",
              "      <th>mean</th>\n",
              "      <th>std</th>\n",
              "      <th>min</th>\n",
              "      <th>25%</th>\n",
              "      <th>50%</th>\n",
              "      <th>75%</th>\n",
              "      <th>max</th>\n",
              "    </tr>\n",
              "  </thead>\n",
              "  <tbody>\n",
              "    <tr>\n",
              "      <th>fixed acidity</th>\n",
              "      <td>3155.0</td>\n",
              "      <td>7.221616</td>\n",
              "      <td>1.325297</td>\n",
              "      <td>3.80000</td>\n",
              "      <td>6.40000</td>\n",
              "      <td>7.00000</td>\n",
              "      <td>7.7000</td>\n",
              "      <td>15.60000</td>\n",
              "    </tr>\n",
              "    <tr>\n",
              "      <th>volatile acidity</th>\n",
              "      <td>3155.0</td>\n",
              "      <td>0.338929</td>\n",
              "      <td>0.162476</td>\n",
              "      <td>0.08000</td>\n",
              "      <td>0.23000</td>\n",
              "      <td>0.29000</td>\n",
              "      <td>0.4000</td>\n",
              "      <td>1.24000</td>\n",
              "    </tr>\n",
              "    <tr>\n",
              "      <th>citric acid</th>\n",
              "      <td>3155.0</td>\n",
              "      <td>0.321569</td>\n",
              "      <td>0.147970</td>\n",
              "      <td>0.00000</td>\n",
              "      <td>0.25000</td>\n",
              "      <td>0.31000</td>\n",
              "      <td>0.4000</td>\n",
              "      <td>1.66000</td>\n",
              "    </tr>\n",
              "    <tr>\n",
              "      <th>residual sugar</th>\n",
              "      <td>3155.0</td>\n",
              "      <td>5.155911</td>\n",
              "      <td>4.639632</td>\n",
              "      <td>0.60000</td>\n",
              "      <td>1.80000</td>\n",
              "      <td>2.80000</td>\n",
              "      <td>7.6500</td>\n",
              "      <td>65.80000</td>\n",
              "    </tr>\n",
              "    <tr>\n",
              "      <th>chlorides</th>\n",
              "      <td>3155.0</td>\n",
              "      <td>0.056976</td>\n",
              "      <td>0.036802</td>\n",
              "      <td>0.01200</td>\n",
              "      <td>0.03800</td>\n",
              "      <td>0.04700</td>\n",
              "      <td>0.0660</td>\n",
              "      <td>0.61100</td>\n",
              "    </tr>\n",
              "    <tr>\n",
              "      <th>free sulfur dioxide</th>\n",
              "      <td>3155.0</td>\n",
              "      <td>30.388590</td>\n",
              "      <td>17.236784</td>\n",
              "      <td>1.00000</td>\n",
              "      <td>17.00000</td>\n",
              "      <td>28.00000</td>\n",
              "      <td>41.0000</td>\n",
              "      <td>131.00000</td>\n",
              "    </tr>\n",
              "    <tr>\n",
              "      <th>total sulfur dioxide</th>\n",
              "      <td>3155.0</td>\n",
              "      <td>115.062282</td>\n",
              "      <td>56.706617</td>\n",
              "      <td>6.00000</td>\n",
              "      <td>75.00000</td>\n",
              "      <td>117.00000</td>\n",
              "      <td>156.0000</td>\n",
              "      <td>344.00000</td>\n",
              "    </tr>\n",
              "    <tr>\n",
              "      <th>density</th>\n",
              "      <td>3155.0</td>\n",
              "      <td>0.994633</td>\n",
              "      <td>0.003005</td>\n",
              "      <td>0.98711</td>\n",
              "      <td>0.99232</td>\n",
              "      <td>0.99481</td>\n",
              "      <td>0.9968</td>\n",
              "      <td>1.03898</td>\n",
              "    </tr>\n",
              "    <tr>\n",
              "      <th>pH</th>\n",
              "      <td>3155.0</td>\n",
              "      <td>3.223201</td>\n",
              "      <td>0.161272</td>\n",
              "      <td>2.72000</td>\n",
              "      <td>3.11000</td>\n",
              "      <td>3.21000</td>\n",
              "      <td>3.3300</td>\n",
              "      <td>4.01000</td>\n",
              "    </tr>\n",
              "    <tr>\n",
              "      <th>sulphates</th>\n",
              "      <td>3155.0</td>\n",
              "      <td>0.534051</td>\n",
              "      <td>0.149149</td>\n",
              "      <td>0.22000</td>\n",
              "      <td>0.43000</td>\n",
              "      <td>0.51000</td>\n",
              "      <td>0.6000</td>\n",
              "      <td>1.95000</td>\n",
              "    </tr>\n",
              "    <tr>\n",
              "      <th>alcohol</th>\n",
              "      <td>3155.0</td>\n",
              "      <td>10.504466</td>\n",
              "      <td>1.154654</td>\n",
              "      <td>8.50000</td>\n",
              "      <td>9.50000</td>\n",
              "      <td>10.30000</td>\n",
              "      <td>11.3000</td>\n",
              "      <td>14.00000</td>\n",
              "    </tr>\n",
              "  </tbody>\n",
              "</table>\n",
              "</div>"
            ],
            "text/plain": [
              "                       count        mean        std      min       25%  \\\n",
              "fixed acidity         3155.0    7.221616   1.325297  3.80000   6.40000   \n",
              "volatile acidity      3155.0    0.338929   0.162476  0.08000   0.23000   \n",
              "citric acid           3155.0    0.321569   0.147970  0.00000   0.25000   \n",
              "residual sugar        3155.0    5.155911   4.639632  0.60000   1.80000   \n",
              "chlorides             3155.0    0.056976   0.036802  0.01200   0.03800   \n",
              "free sulfur dioxide   3155.0   30.388590  17.236784  1.00000  17.00000   \n",
              "total sulfur dioxide  3155.0  115.062282  56.706617  6.00000  75.00000   \n",
              "density               3155.0    0.994633   0.003005  0.98711   0.99232   \n",
              "pH                    3155.0    3.223201   0.161272  2.72000   3.11000   \n",
              "sulphates             3155.0    0.534051   0.149149  0.22000   0.43000   \n",
              "alcohol               3155.0   10.504466   1.154654  8.50000   9.50000   \n",
              "\n",
              "                            50%       75%        max  \n",
              "fixed acidity           7.00000    7.7000   15.60000  \n",
              "volatile acidity        0.29000    0.4000    1.24000  \n",
              "citric acid             0.31000    0.4000    1.66000  \n",
              "residual sugar          2.80000    7.6500   65.80000  \n",
              "chlorides               0.04700    0.0660    0.61100  \n",
              "free sulfur dioxide    28.00000   41.0000  131.00000  \n",
              "total sulfur dioxide  117.00000  156.0000  344.00000  \n",
              "density                 0.99481    0.9968    1.03898  \n",
              "pH                      3.21000    3.3300    4.01000  \n",
              "sulphates               0.51000    0.6000    1.95000  \n",
              "alcohol                10.30000   11.3000   14.00000  "
            ]
          },
          "metadata": {
            "tags": []
          },
          "execution_count": 19
        }
      ]
    },
    {
      "cell_type": "markdown",
      "metadata": {
        "id": "bGPvt9jir_HC"
      },
      "source": [
        "### Get the labels (TODO)\n",
        "\n",
        "The features and labels are currently in the same dataframe.\n",
        "- You will want to store the label columns `is_red` and `quality` separately from the feature columns.  \n",
        "- The following function, `format_output`, gets these two columns from the dataframe (it's given to you).\n",
        "- `format_output` also formats the data into numpy arrays. \n",
        "- Please use the `format_output` and apply it to the `train`, `val` and `test` sets to get dataframes for the labels."
      ]
    },
    {
      "cell_type": "code",
      "metadata": {
        "id": "Z_fs14XQqZVP"
      },
      "source": [
        "def format_output(data):\n",
        "    is_red = data.pop('is_red')\n",
        "    is_red = np.array(is_red)\n",
        "    quality = data.pop('quality')\n",
        "    quality = np.array(quality)\n",
        "    return (quality, is_red)"
      ],
      "execution_count": null,
      "outputs": []
    },
    {
      "cell_type": "code",
      "metadata": {
        "deletable": false,
        "id": "8L3ZZe1fQicm",
        "nbgrader": {
          "cell_type": "code",
          "checksum": "7a86809e54895a816434c48dc903f55d",
          "grade": false,
          "grade_id": "cell-5c30fa2c2a354b0f",
          "locked": false,
          "schema_version": 3,
          "solution": true,
          "task": false
        }
      },
      "source": [
        "# Please uncomment all lines in this cell and replace those marked with `# YOUR CODE HERE`.\n",
        "# You can select all lines in this code cell with Ctrl+A (Windows/Linux) or Cmd+A (Mac), then press Ctrl+/ (Windows/Linux) or Cmd+/ (Mac) to uncomment.\n",
        "\n",
        "\n",
        "\n",
        "# format the output of the train set\n",
        "train_Y = format_output(train)\n",
        "\n",
        "# format the output of the val set\n",
        "val_Y = format_output(val)\n",
        "    \n",
        "# format the output of the test set\n",
        "test_Y = format_output(test)"
      ],
      "execution_count": null,
      "outputs": []
    },
    {
      "cell_type": "code",
      "metadata": {
        "deletable": false,
        "editable": false,
        "nbgrader": {
          "cell_type": "code",
          "checksum": "359cabbafaed14ec9bbc1e57a7b6f32c",
          "grade": true,
          "grade_id": "cell-4977d8befb80f56b",
          "locked": true,
          "points": 1,
          "schema_version": 3,
          "solution": false,
          "task": false
        },
        "id": "yzG7xHF3DlwY",
        "outputId": "48e35993-96f2-4b05-873a-24194c37bbe8"
      },
      "source": [
        "utils.test_format_output(df, train_Y, val_Y, test_Y)"
      ],
      "execution_count": null,
      "outputs": [
        {
          "output_type": "stream",
          "text": [
            "\u001b[92m All public tests passed\n"
          ],
          "name": "stdout"
        }
      ]
    },
    {
      "cell_type": "markdown",
      "metadata": {
        "id": "zJEEnkHLDlwY"
      },
      "source": [
        "Notice that after you get the labels, the `train`, `val` and `test` dataframes no longer contain the label columns, and contain just the feature columns.\n",
        "- This is because you used `.pop` in the `format_output` function."
      ]
    },
    {
      "cell_type": "code",
      "metadata": {
        "id": "KNppjnuJDlwZ",
        "outputId": "f6f41750-b214-4d57-f121-f7babf9d41e0"
      },
      "source": [
        "train.head()"
      ],
      "execution_count": null,
      "outputs": [
        {
          "output_type": "execute_result",
          "data": {
            "text/html": [
              "<div>\n",
              "<style scoped>\n",
              "    .dataframe tbody tr th:only-of-type {\n",
              "        vertical-align: middle;\n",
              "    }\n",
              "\n",
              "    .dataframe tbody tr th {\n",
              "        vertical-align: top;\n",
              "    }\n",
              "\n",
              "    .dataframe thead th {\n",
              "        text-align: right;\n",
              "    }\n",
              "</style>\n",
              "<table border=\"1\" class=\"dataframe\">\n",
              "  <thead>\n",
              "    <tr style=\"text-align: right;\">\n",
              "      <th></th>\n",
              "      <th>fixed acidity</th>\n",
              "      <th>volatile acidity</th>\n",
              "      <th>citric acid</th>\n",
              "      <th>residual sugar</th>\n",
              "      <th>chlorides</th>\n",
              "      <th>free sulfur dioxide</th>\n",
              "      <th>total sulfur dioxide</th>\n",
              "      <th>density</th>\n",
              "      <th>pH</th>\n",
              "      <th>sulphates</th>\n",
              "      <th>alcohol</th>\n",
              "    </tr>\n",
              "  </thead>\n",
              "  <tbody>\n",
              "    <tr>\n",
              "      <th>225</th>\n",
              "      <td>7.5</td>\n",
              "      <td>0.65</td>\n",
              "      <td>0.18</td>\n",
              "      <td>7.0</td>\n",
              "      <td>0.088</td>\n",
              "      <td>27.0</td>\n",
              "      <td>94.0</td>\n",
              "      <td>0.99915</td>\n",
              "      <td>3.38</td>\n",
              "      <td>0.77</td>\n",
              "      <td>9.4</td>\n",
              "    </tr>\n",
              "    <tr>\n",
              "      <th>3557</th>\n",
              "      <td>6.3</td>\n",
              "      <td>0.27</td>\n",
              "      <td>0.29</td>\n",
              "      <td>12.2</td>\n",
              "      <td>0.044</td>\n",
              "      <td>59.0</td>\n",
              "      <td>196.0</td>\n",
              "      <td>0.99782</td>\n",
              "      <td>3.14</td>\n",
              "      <td>0.40</td>\n",
              "      <td>8.8</td>\n",
              "    </tr>\n",
              "    <tr>\n",
              "      <th>3825</th>\n",
              "      <td>8.8</td>\n",
              "      <td>0.27</td>\n",
              "      <td>0.25</td>\n",
              "      <td>5.0</td>\n",
              "      <td>0.024</td>\n",
              "      <td>52.0</td>\n",
              "      <td>99.0</td>\n",
              "      <td>0.99250</td>\n",
              "      <td>2.87</td>\n",
              "      <td>0.49</td>\n",
              "      <td>11.4</td>\n",
              "    </tr>\n",
              "    <tr>\n",
              "      <th>1740</th>\n",
              "      <td>6.4</td>\n",
              "      <td>0.45</td>\n",
              "      <td>0.07</td>\n",
              "      <td>1.1</td>\n",
              "      <td>0.030</td>\n",
              "      <td>10.0</td>\n",
              "      <td>131.0</td>\n",
              "      <td>0.99050</td>\n",
              "      <td>2.97</td>\n",
              "      <td>0.28</td>\n",
              "      <td>10.8</td>\n",
              "    </tr>\n",
              "    <tr>\n",
              "      <th>1221</th>\n",
              "      <td>7.2</td>\n",
              "      <td>0.53</td>\n",
              "      <td>0.13</td>\n",
              "      <td>2.0</td>\n",
              "      <td>0.058</td>\n",
              "      <td>18.0</td>\n",
              "      <td>22.0</td>\n",
              "      <td>0.99573</td>\n",
              "      <td>3.21</td>\n",
              "      <td>0.68</td>\n",
              "      <td>9.9</td>\n",
              "    </tr>\n",
              "  </tbody>\n",
              "</table>\n",
              "</div>"
            ],
            "text/plain": [
              "      fixed acidity  volatile acidity  citric acid  residual sugar  chlorides  \\\n",
              "225             7.5              0.65         0.18             7.0      0.088   \n",
              "3557            6.3              0.27         0.29            12.2      0.044   \n",
              "3825            8.8              0.27         0.25             5.0      0.024   \n",
              "1740            6.4              0.45         0.07             1.1      0.030   \n",
              "1221            7.2              0.53         0.13             2.0      0.058   \n",
              "\n",
              "      free sulfur dioxide  total sulfur dioxide  density    pH  sulphates  \\\n",
              "225                  27.0                  94.0  0.99915  3.38       0.77   \n",
              "3557                 59.0                 196.0  0.99782  3.14       0.40   \n",
              "3825                 52.0                  99.0  0.99250  2.87       0.49   \n",
              "1740                 10.0                 131.0  0.99050  2.97       0.28   \n",
              "1221                 18.0                  22.0  0.99573  3.21       0.68   \n",
              "\n",
              "      alcohol  \n",
              "225       9.4  \n",
              "3557      8.8  \n",
              "3825     11.4  \n",
              "1740     10.8  \n",
              "1221      9.9  "
            ]
          },
          "metadata": {
            "tags": []
          },
          "execution_count": 23
        }
      ]
    },
    {
      "cell_type": "markdown",
      "metadata": {
        "id": "hEdbrruAsN1D"
      },
      "source": [
        "### Normalize the data (TODO)\n",
        "\n",
        "Next, you can normalize the data, x, using the formula:\n",
        "$$x_{norm} = \\frac{x - \\mu}{\\sigma}$$\n",
        "- The `norm` function is defined for you.\n",
        "- Please apply the `norm` function to normalize the dataframes that contains the feature columns of `train`, `val` and `test` sets."
      ]
    },
    {
      "cell_type": "code",
      "metadata": {
        "id": "WWiZPAHCLjUs"
      },
      "source": [
        "def norm(x):\n",
        "    return (x - train_stats['mean']) / train_stats['std']"
      ],
      "execution_count": null,
      "outputs": []
    },
    {
      "cell_type": "code",
      "metadata": {
        "deletable": false,
        "id": "JEaOi2I2Lk69",
        "nbgrader": {
          "cell_type": "code",
          "checksum": "6bc0cdcb563d192f271067aa3373ff32",
          "grade": false,
          "grade_id": "cell-d8416d975c371095",
          "locked": false,
          "schema_version": 3,
          "solution": true,
          "task": false
        }
      },
      "source": [
        "# Please uncomment all lines in this cell and replace those marked with `# YOUR CODE HERE`.\n",
        "# You can select all lines in this code cell with Ctrl+A (Windows/Linux) or Cmd+A (Mac), then press Ctrl+/ (Windows/Linux) or Cmd+/ (Mac) to uncomment.\n",
        "\n",
        "\n",
        "\n",
        "# normalize the train set\n",
        "norm_train_X = norm(train)\n",
        "    \n",
        "# normalize the val set\n",
        "norm_val_X = norm(val) # YOUR CODE HERE)\n",
        "    \n",
        "# normalize the test set\n",
        "norm_test_X = norm(test) # YOUR CODE HERE)"
      ],
      "execution_count": null,
      "outputs": []
    },
    {
      "cell_type": "code",
      "metadata": {
        "deletable": false,
        "editable": false,
        "nbgrader": {
          "cell_type": "code",
          "checksum": "4f567db45bf40191601780379cc100b8",
          "grade": true,
          "grade_id": "cell-97fad979d157529b",
          "locked": true,
          "points": 1,
          "schema_version": 3,
          "solution": false,
          "task": false
        },
        "id": "nRv0R-0tDlwa",
        "outputId": "fb7c4378-cc0e-4f7e-8842-d1748f814d31"
      },
      "source": [
        "utils.test_norm(norm_train_X, norm_val_X, norm_test_X, train, val, test)\n"
      ],
      "execution_count": null,
      "outputs": [
        {
          "output_type": "stream",
          "text": [
            "\u001b[92m All public tests passed\n"
          ],
          "name": "stdout"
        }
      ]
    },
    {
      "cell_type": "markdown",
      "metadata": {
        "id": "hzykDwQhsaPO"
      },
      "source": [
        "## Define the Model (TODO)\n",
        "\n",
        "Define the model using the functional API. The base model will be 2 `Dense` layers of 128 neurons each, and have the `'relu'` activation.\n",
        "- Check out the documentation for [tf.keras.layers.Dense](https://www.tensorflow.org/api_docs/python/tf/keras/layers/Dense)"
      ]
    },
    {
      "cell_type": "code",
      "metadata": {
        "deletable": false,
        "id": "Rhcns3oTFkM6",
        "nbgrader": {
          "cell_type": "code",
          "checksum": "74b031247e569526552bf13a034a1c07",
          "grade": false,
          "grade_id": "cell-73fceedad1fe351c",
          "locked": false,
          "schema_version": 3,
          "solution": true,
          "task": false
        }
      },
      "source": [
        "# Please uncomment all lines in this cell and replace those marked with `# YOUR CODE HERE`.\n",
        "# You can select all lines in this code cell with Ctrl+A (Windows/Linux) or Cmd+A (Mac), then press Ctrl+/ (Windows/Linux) or Cmd+/ (Mac) to uncomment.\n",
        "\n",
        "\n",
        "\n",
        "def base_model(inputs):\n",
        "    \n",
        "    # connect a Dense layer with 128 neurons and a relu activation\n",
        "    x = Dense(128, activation = 'relu')(inputs)# YOUR CODE HERE\n",
        "    \n",
        "    # connect another Dense layer with 128 neurons and a relu activation\n",
        "    x = Dense(128, activation = 'relu')(x) # YOUR CODE HERE\n",
        "    return x\n",
        "  "
      ],
      "execution_count": null,
      "outputs": []
    },
    {
      "cell_type": "code",
      "metadata": {
        "deletable": false,
        "editable": false,
        "nbgrader": {
          "cell_type": "code",
          "checksum": "9255924b3def80f679616e4c851a43e1",
          "grade": true,
          "grade_id": "cell-54f742a133353d75",
          "locked": true,
          "points": 1,
          "schema_version": 3,
          "solution": false,
          "task": false
        },
        "id": "0IuSe8WNDlwc",
        "outputId": "c0eb422f-a920-4713-ed2c-de24acde9769"
      },
      "source": [
        "utils.test_base_model(base_model)"
      ],
      "execution_count": null,
      "outputs": [
        {
          "output_type": "stream",
          "text": [
            "\u001b[92m All public tests passed\n"
          ],
          "name": "stdout"
        }
      ]
    },
    {
      "cell_type": "markdown",
      "metadata": {
        "id": "xem_fcVws6Kz"
      },
      "source": [
        "# Define output layers of the model (TODO)\n",
        "\n",
        "You will add output layers to the base model. \n",
        "- The model will need two outputs.\n",
        "\n",
        "One output layer will predict wine quality, which is a numeric value.\n",
        "- Define a `Dense` layer with 1 neuron.\n",
        "- Since this is a regression output, the activation can be left as its default value `None`.\n",
        "\n",
        "The other output layer will predict the wine type, which is either red `1` or not red `0` (white).\n",
        "- Define a `Dense` layer with 1 neuron.\n",
        "- Since there are two possible categories, you can use a sigmoid activation for binary classification.\n",
        "\n",
        "Define the `Model`\n",
        "- Define the `Model` object, and set the following parameters:\n",
        "  - `inputs`: pass in the inputs to the model as a list.\n",
        "  - `outputs`: pass in a list of the outputs that you just defined: wine quality, then wine type.\n",
        "  - **Note**: please list the wine quality before wine type in the outputs, as this will affect the calculated loss if you choose the other order."
      ]
    },
    {
      "cell_type": "code",
      "metadata": {
        "deletable": false,
        "id": "n5UGF8PMVLPt",
        "nbgrader": {
          "cell_type": "code",
          "checksum": "76d35b90d20cdcbb22986cd8211057de",
          "grade": false,
          "grade_id": "cell-19e285f482f021fb",
          "locked": false,
          "schema_version": 3,
          "solution": true,
          "task": false
        }
      },
      "source": [
        "# Please uncomment all lines in this cell and replace those marked with `# YOUR CODE HERE`.\n",
        "# You can select all lines in this code cell with Ctrl+A (Windows/Linux) or Cmd+A (Mac), then press Ctrl+/ (Windows/Linux) or Cmd+/ (Mac) to uncomment.\n",
        "\n",
        "\n",
        "\n",
        "def final_model(inputs):\n",
        "    \n",
        "    # get the base model\n",
        "    x = base_model(inputs)\n",
        "\n",
        "    # connect the output Dense layer for regression\n",
        "    wine_quality = Dense(units='1', name='wine_quality')(x)\n",
        "\n",
        "    # connect the output Dense layer for classification. this will use a sigmoid activation.\n",
        "    wine_type = Dense(units='1', activation='sigmoid', name='wine_type')(x)\n",
        "\n",
        "    # define the model using the input and output layers\n",
        "    model = Model(inputs=inputs, outputs=[wine_quality, wine_type]) # YOUR CODE HERE)\n",
        "\n",
        "    return model"
      ],
      "execution_count": null,
      "outputs": []
    },
    {
      "cell_type": "code",
      "metadata": {
        "deletable": false,
        "editable": false,
        "nbgrader": {
          "cell_type": "code",
          "checksum": "89cbf89d8ab5e2e59ecf7f63f517520a",
          "grade": true,
          "grade_id": "cell-40d050f855c817d1",
          "locked": true,
          "points": 1,
          "schema_version": 3,
          "solution": false,
          "task": false
        },
        "id": "iDo7gDfcDlwe",
        "outputId": "ba45cc09-44af-4c67-fdf7-99d8875fae88"
      },
      "source": [
        "utils.test_final_model(final_model)"
      ],
      "execution_count": null,
      "outputs": [
        {
          "output_type": "stream",
          "text": [
            "\u001b[92m All public tests passed\n"
          ],
          "name": "stdout"
        }
      ]
    },
    {
      "cell_type": "markdown",
      "metadata": {
        "id": "5R0BMTsltZyu"
      },
      "source": [
        "## Compiling the Model\n",
        "\n",
        "Next, compile the model. When setting the loss parameter of `model.compile`, you're setting the loss for each of the two outputs (wine quality and wine type).\n",
        "\n",
        "To set more than one loss, use a dictionary of key-value pairs.\n",
        "- You can look at the docs for the losses [here](https://www.tensorflow.org/api_docs/python/tf/keras/losses#functions).\n",
        "    - **Note**: For the desired spelling, please look at the \"Functions\" section of the documentation and not the \"classes\" section on that same page.\n",
        "- wine_type: Since you will be performing binary classification on wine type, you should use the binary crossentropy loss function for it.  Please pass this in as a string.  \n",
        "  - **Hint**, this should be all lowercase.  In the documentation, you'll see this under the \"Functions\" section, not the \"Classes\" section.\n",
        "- wine_quality: since this is a regression output, use the mean squared error.  Please pass it in as a string, all lowercase.\n",
        "  - **Hint**: You may notice that there are two aliases for mean squared error.  Please use the shorter name.\n",
        "\n",
        "\n",
        "You will also set the metric for each of the two outputs.  Again, to set metrics for two or more outputs, use a dictionary with key value pairs.\n",
        "- The metrics documentation is linked [here](https://www.tensorflow.org/api_docs/python/tf/keras/metrics).\n",
        "- For the wine type, please set it to accuracy as a string, all lowercase.\n",
        "- For wine quality, please use the root mean squared error.  Instead of a string, you'll set it to an instance of the class [RootMeanSquaredError](https://www.tensorflow.org/api_docs/python/tf/keras/metrics/RootMeanSquaredError), which belongs to the tf.keras.metrics module.\n",
        "\n",
        "**Note**: If you see the error message \n",
        ">Exception: wine quality loss function is incorrect.\n",
        "\n",
        "- Please also check your other losses and metrics, as the error may be caused by the other three key-value pairs and not the wine quality loss."
      ]
    },
    {
      "cell_type": "code",
      "metadata": {
        "deletable": false,
        "id": "LK11duUbUjmh",
        "nbgrader": {
          "cell_type": "code",
          "checksum": "22f45067ca69eb2ccadb43874dbcc27b",
          "grade": false,
          "grade_id": "cell-81afdc4dcca51d5e",
          "locked": false,
          "schema_version": 3,
          "solution": true,
          "task": false
        }
      },
      "source": [
        "# Please uncomment all lines in this cell and replace those marked with `# YOUR CODE HERE`.\n",
        "# You can select all lines in this code cell with Ctrl+A (Windows/Linux) or Cmd+A (Mac), then press Ctrl+/ (Windows/Linux) or Cmd+/ (Mac) to uncomment.\n",
        "\n",
        "\n",
        "\n",
        "inputs = tf.keras.layers.Input(shape=(11,))\n",
        "rms = tf.keras.optimizers.RMSprop(lr=0.0001)\n",
        "model = final_model(inputs)\n",
        "\n",
        "model.compile(optimizer=rms, \n",
        "              loss = {'wine_type' : 'binary_crossentropy',\n",
        "                      'wine_quality' : tf.keras.losses.mean_squared_error\n",
        "                     },\n",
        "              metrics = {'wine_type' : 'accuracy',\n",
        "                         'wine_quality': tf.keras.metrics.RootMeanSquaredError()\n",
        "                       }\n",
        "             )\n"
      ],
      "execution_count": null,
      "outputs": []
    },
    {
      "cell_type": "code",
      "metadata": {
        "deletable": false,
        "editable": false,
        "nbgrader": {
          "cell_type": "code",
          "checksum": "88e02238ea5e456ff65e835cc8158054",
          "grade": true,
          "grade_id": "cell-2eeeba02391c4632",
          "locked": true,
          "points": 1,
          "schema_version": 3,
          "solution": false,
          "task": false
        },
        "id": "wT2FdSRrDlwf",
        "outputId": "41416080-e3e7-4b0c-cdaa-157a6b2626f3"
      },
      "source": [
        "utils.test_model_compile(model)"
      ],
      "execution_count": null,
      "outputs": [
        {
          "output_type": "stream",
          "text": [
            "\u001b[92m All public tests passed\n"
          ],
          "name": "stdout"
        }
      ]
    },
    {
      "cell_type": "markdown",
      "metadata": {
        "id": "90MpAMpWuKm-"
      },
      "source": [
        "## Training the Model\n",
        "\n",
        "Fit the model to the training inputs and outputs. \n",
        "- Check the documentation for [model.fit](https://www.tensorflow.org/api_docs/python/tf/keras/Model#fit).\n",
        "- Remember to use the normalized training set as inputs. \n",
        "- For the validation data, please use the normalized validation set."
      ]
    },
    {
      "cell_type": "code",
      "metadata": {
        "deletable": false,
        "id": "_eiZkle4XwiY",
        "nbgrader": {
          "cell_type": "code",
          "checksum": "2ca7664be03bfd6fd3651ae44d17b793",
          "grade": false,
          "grade_id": "cell-0bb56262896f6680",
          "locked": false,
          "schema_version": 3,
          "solution": true,
          "task": false
        },
        "outputId": "ebc2c65c-7434-4a11-8bb9-60ac8a000ea1"
      },
      "source": [
        "# Please uncomment all lines in this cell and replace those marked with `# YOUR CODE HERE`.\n",
        "# You can select all lines in this code cell with Ctrl+A (Windows/Linux) or Cmd+A (Mac), then press Ctrl+/ (Windows/Linux) or Cmd+/ (Mac) to uncomment.\n",
        "\n",
        "\n",
        "\n",
        "history = model.fit(norm_train_X, train_Y,\n",
        "                    epochs = 180, validation_data=(norm_val_X, val_Y))"
      ],
      "execution_count": null,
      "outputs": [
        {
          "output_type": "stream",
          "text": [
            "Train on 3155 samples, validate on 789 samples\n",
            "Epoch 1/180\n",
            "3155/3155 [==============================] - 1s 340us/sample - loss: 25.3696 - wine_quality_loss: 24.6083 - wine_type_loss: 0.7312 - wine_quality_root_mean_squared_error: 4.9637 - wine_type_accuracy: 0.4403 - val_loss: 18.3180 - val_wine_quality_loss: 17.6414 - val_wine_type_loss: 0.6955 - val_wine_quality_root_mean_squared_error: 4.1979 - val_wine_type_accuracy: 0.5830\n",
            "Epoch 2/180\n",
            "3155/3155 [==============================] - 0s 96us/sample - loss: 12.2265 - wine_quality_loss: 11.5545 - wine_type_loss: 0.6518 - wine_quality_root_mean_squared_error: 3.4021 - wine_type_accuracy: 0.7068 - val_loss: 7.3505 - val_wine_quality_loss: 6.7932 - val_wine_type_loss: 0.6116 - val_wine_quality_root_mean_squared_error: 2.5959 - val_wine_type_accuracy: 0.7402\n",
            "Epoch 3/180\n",
            "3155/3155 [==============================] - 0s 93us/sample - loss: 4.7746 - wine_quality_loss: 4.2096 - wine_type_loss: 0.5585 - wine_quality_root_mean_squared_error: 2.0534 - wine_type_accuracy: 0.7483 - val_loss: 3.0355 - val_wine_quality_loss: 2.5851 - val_wine_type_loss: 0.5105 - val_wine_quality_root_mean_squared_error: 1.5890 - val_wine_type_accuracy: 0.7427\n",
            "Epoch 4/180\n",
            "3155/3155 [==============================] - 0s 93us/sample - loss: 2.7238 - wine_quality_loss: 2.2668 - wine_type_loss: 0.4553 - wine_quality_root_mean_squared_error: 1.5060 - wine_type_accuracy: 0.7645 - val_loss: 2.3222 - val_wine_quality_loss: 1.9470 - val_wine_type_loss: 0.4135 - val_wine_quality_root_mean_squared_error: 1.3815 - val_wine_type_accuracy: 0.7871\n",
            "Epoch 5/180\n",
            "3155/3155 [==============================] - 0s 76us/sample - loss: 2.2216 - wine_quality_loss: 1.8609 - wine_type_loss: 0.3629 - wine_quality_root_mean_squared_error: 1.3633 - wine_type_accuracy: 0.8491 - val_loss: 2.0366 - val_wine_quality_loss: 1.7314 - val_wine_type_loss: 0.3272 - val_wine_quality_root_mean_squared_error: 1.3073 - val_wine_type_accuracy: 0.8973\n",
            "Epoch 6/180\n",
            "3155/3155 [==============================] - 0s 91us/sample - loss: 1.9684 - wine_quality_loss: 1.6780 - wine_type_loss: 0.2901 - wine_quality_root_mean_squared_error: 1.2955 - wine_type_accuracy: 0.9312 - val_loss: 1.8044 - val_wine_quality_loss: 1.5574 - val_wine_type_loss: 0.2633 - val_wine_quality_root_mean_squared_error: 1.2413 - val_wine_type_accuracy: 0.9658\n",
            "Epoch 7/180\n",
            "3155/3155 [==============================] - 0s 90us/sample - loss: 1.7685 - wine_quality_loss: 1.5365 - wine_type_loss: 0.2318 - wine_quality_root_mean_squared_error: 1.2396 - wine_type_accuracy: 0.9705 - val_loss: 1.6479 - val_wine_quality_loss: 1.4487 - val_wine_type_loss: 0.2094 - val_wine_quality_root_mean_squared_error: 1.1993 - val_wine_type_accuracy: 0.9797\n",
            "Epoch 8/180\n",
            "3155/3155 [==============================] - 0s 98us/sample - loss: 1.6019 - wine_quality_loss: 1.4152 - wine_type_loss: 0.1861 - wine_quality_root_mean_squared_error: 1.1899 - wine_type_accuracy: 0.9810 - val_loss: 1.4903 - val_wine_quality_loss: 1.3281 - val_wine_type_loss: 0.1691 - val_wine_quality_root_mean_squared_error: 1.1493 - val_wine_type_accuracy: 0.9848\n",
            "Epoch 9/180\n",
            "3155/3155 [==============================] - 0s 88us/sample - loss: 1.4702 - wine_quality_loss: 1.3184 - wine_type_loss: 0.1515 - wine_quality_root_mean_squared_error: 1.1484 - wine_type_accuracy: 0.9842 - val_loss: 1.3704 - val_wine_quality_loss: 1.2373 - val_wine_type_loss: 0.1379 - val_wine_quality_root_mean_squared_error: 1.1101 - val_wine_type_accuracy: 0.9873\n",
            "Epoch 10/180\n",
            "3155/3155 [==============================] - 0s 77us/sample - loss: 1.3487 - wine_quality_loss: 1.2303 - wine_type_loss: 0.1248 - wine_quality_root_mean_squared_error: 1.1063 - wine_type_accuracy: 0.9864 - val_loss: 1.2637 - val_wine_quality_loss: 1.1525 - val_wine_type_loss: 0.1145 - val_wine_quality_root_mean_squared_error: 1.0719 - val_wine_type_accuracy: 0.9886\n",
            "Epoch 11/180\n",
            "3155/3155 [==============================] - 0s 91us/sample - loss: 1.2512 - wine_quality_loss: 1.1449 - wine_type_loss: 0.1065 - wine_quality_root_mean_squared_error: 1.0703 - wine_type_accuracy: 0.9883 - val_loss: 1.1866 - val_wine_quality_loss: 1.0913 - val_wine_type_loss: 0.0969 - val_wine_quality_root_mean_squared_error: 1.0438 - val_wine_type_accuracy: 0.9899\n",
            "Epoch 12/180\n",
            "3155/3155 [==============================] - 0s 92us/sample - loss: 1.1661 - wine_quality_loss: 1.0749 - wine_type_loss: 0.0908 - wine_quality_root_mean_squared_error: 1.0369 - wine_type_accuracy: 0.9883 - val_loss: 1.0952 - val_wine_quality_loss: 1.0123 - val_wine_type_loss: 0.0840 - val_wine_quality_root_mean_squared_error: 1.0055 - val_wine_type_accuracy: 0.9899\n",
            "Epoch 13/180\n",
            "3155/3155 [==============================] - 0s 89us/sample - loss: 1.0925 - wine_quality_loss: 1.0144 - wine_type_loss: 0.0802 - wine_quality_root_mean_squared_error: 1.0062 - wine_type_accuracy: 0.9899 - val_loss: 1.0389 - val_wine_quality_loss: 0.9652 - val_wine_type_loss: 0.0738 - val_wine_quality_root_mean_squared_error: 0.9823 - val_wine_type_accuracy: 0.9924\n",
            "Epoch 14/180\n",
            "3155/3155 [==============================] - 0s 77us/sample - loss: 1.0210 - wine_quality_loss: 0.9497 - wine_type_loss: 0.0716 - wine_quality_root_mean_squared_error: 0.9743 - wine_type_accuracy: 0.9908 - val_loss: 0.9691 - val_wine_quality_loss: 0.9030 - val_wine_type_loss: 0.0659 - val_wine_quality_root_mean_squared_error: 0.9502 - val_wine_type_accuracy: 0.9937\n",
            "Epoch 15/180\n",
            "3155/3155 [==============================] - 0s 91us/sample - loss: 0.9621 - wine_quality_loss: 0.8959 - wine_type_loss: 0.0651 - wine_quality_root_mean_squared_error: 0.9470 - wine_type_accuracy: 0.9908 - val_loss: 0.9047 - val_wine_quality_loss: 0.8446 - val_wine_type_loss: 0.0601 - val_wine_quality_root_mean_squared_error: 0.9189 - val_wine_type_accuracy: 0.9937\n",
            "Epoch 16/180\n",
            "3155/3155 [==============================] - 0s 90us/sample - loss: 0.9049 - wine_quality_loss: 0.8452 - wine_type_loss: 0.0600 - wine_quality_root_mean_squared_error: 0.9192 - wine_type_accuracy: 0.9914 - val_loss: 0.8580 - val_wine_quality_loss: 0.8019 - val_wine_type_loss: 0.0554 - val_wine_quality_root_mean_squared_error: 0.8957 - val_wine_type_accuracy: 0.9937\n",
            "Epoch 17/180\n",
            "3155/3155 [==============================] - 0s 76us/sample - loss: 0.8539 - wine_quality_loss: 0.7982 - wine_type_loss: 0.0557 - wine_quality_root_mean_squared_error: 0.8933 - wine_type_accuracy: 0.9911 - val_loss: 0.8210 - val_wine_quality_loss: 0.7681 - val_wine_type_loss: 0.0515 - val_wine_quality_root_mean_squared_error: 0.8770 - val_wine_type_accuracy: 0.9937\n",
            "Epoch 18/180\n",
            "3155/3155 [==============================] - 0s 87us/sample - loss: 0.8060 - wine_quality_loss: 0.7540 - wine_type_loss: 0.0522 - wine_quality_root_mean_squared_error: 0.8682 - wine_type_accuracy: 0.9914 - val_loss: 0.7674 - val_wine_quality_loss: 0.7181 - val_wine_type_loss: 0.0484 - val_wine_quality_root_mean_squared_error: 0.8477 - val_wine_type_accuracy: 0.9937\n",
            "Epoch 19/180\n",
            "3155/3155 [==============================] - 0s 88us/sample - loss: 0.7606 - wine_quality_loss: 0.7110 - wine_type_loss: 0.0495 - wine_quality_root_mean_squared_error: 0.8433 - wine_type_accuracy: 0.9918 - val_loss: 0.7278 - val_wine_quality_loss: 0.6807 - val_wine_type_loss: 0.0459 - val_wine_quality_root_mean_squared_error: 0.8255 - val_wine_type_accuracy: 0.9937\n",
            "Epoch 20/180\n",
            "3155/3155 [==============================] - 0s 74us/sample - loss: 0.7220 - wine_quality_loss: 0.6769 - wine_type_loss: 0.0474 - wine_quality_root_mean_squared_error: 0.8214 - wine_type_accuracy: 0.9918 - val_loss: 0.6914 - val_wine_quality_loss: 0.6463 - val_wine_type_loss: 0.0438 - val_wine_quality_root_mean_squared_error: 0.8045 - val_wine_type_accuracy: 0.9937\n",
            "Epoch 21/180\n",
            "3155/3155 [==============================] - 0s 89us/sample - loss: 0.6851 - wine_quality_loss: 0.6392 - wine_type_loss: 0.0453 - wine_quality_root_mean_squared_error: 0.7999 - wine_type_accuracy: 0.9924 - val_loss: 0.6530 - val_wine_quality_loss: 0.6095 - val_wine_type_loss: 0.0422 - val_wine_quality_root_mean_squared_error: 0.7814 - val_wine_type_accuracy: 0.9937\n",
            "Epoch 22/180\n",
            "3155/3155 [==============================] - 0s 72us/sample - loss: 0.6535 - wine_quality_loss: 0.6104 - wine_type_loss: 0.0436 - wine_quality_root_mean_squared_error: 0.7809 - wine_type_accuracy: 0.9924 - val_loss: 0.6176 - val_wine_quality_loss: 0.5751 - val_wine_type_loss: 0.0408 - val_wine_quality_root_mean_squared_error: 0.7592 - val_wine_type_accuracy: 0.9937\n",
            "Epoch 23/180\n",
            "3155/3155 [==============================] - 0s 89us/sample - loss: 0.6231 - wine_quality_loss: 0.5802 - wine_type_loss: 0.0422 - wine_quality_root_mean_squared_error: 0.7621 - wine_type_accuracy: 0.9927 - val_loss: 0.5886 - val_wine_quality_loss: 0.5474 - val_wine_type_loss: 0.0397 - val_wine_quality_root_mean_squared_error: 0.7406 - val_wine_type_accuracy: 0.9937\n",
            "Epoch 24/180\n",
            "3155/3155 [==============================] - 0s 89us/sample - loss: 0.5920 - wine_quality_loss: 0.5510 - wine_type_loss: 0.0410 - wine_quality_root_mean_squared_error: 0.7422 - wine_type_accuracy: 0.9924 - val_loss: 0.5659 - val_wine_quality_loss: 0.5258 - val_wine_type_loss: 0.0384 - val_wine_quality_root_mean_squared_error: 0.7261 - val_wine_type_accuracy: 0.9949\n",
            "Epoch 25/180\n",
            "3155/3155 [==============================] - 0s 74us/sample - loss: 0.5645 - wine_quality_loss: 0.5243 - wine_type_loss: 0.0398 - wine_quality_root_mean_squared_error: 0.7243 - wine_type_accuracy: 0.9924 - val_loss: 0.5349 - val_wine_quality_loss: 0.4957 - val_wine_type_loss: 0.0375 - val_wine_quality_root_mean_squared_error: 0.7050 - val_wine_type_accuracy: 0.9949\n",
            "Epoch 26/180\n",
            "3155/3155 [==============================] - 0s 89us/sample - loss: 0.5391 - wine_quality_loss: 0.4998 - wine_type_loss: 0.0390 - wine_quality_root_mean_squared_error: 0.7072 - wine_type_accuracy: 0.9927 - val_loss: 0.5176 - val_wine_quality_loss: 0.4788 - val_wine_type_loss: 0.0369 - val_wine_quality_root_mean_squared_error: 0.6931 - val_wine_type_accuracy: 0.9949\n",
            "Epoch 27/180\n",
            "3155/3155 [==============================] - 0s 89us/sample - loss: 0.5151 - wine_quality_loss: 0.4766 - wine_type_loss: 0.0380 - wine_quality_root_mean_squared_error: 0.6907 - wine_type_accuracy: 0.9927 - val_loss: 0.4890 - val_wine_quality_loss: 0.4515 - val_wine_type_loss: 0.0361 - val_wine_quality_root_mean_squared_error: 0.6727 - val_wine_type_accuracy: 0.9949\n",
            "Epoch 28/180\n",
            "3155/3155 [==============================] - 0s 75us/sample - loss: 0.4969 - wine_quality_loss: 0.4593 - wine_type_loss: 0.0372 - wine_quality_root_mean_squared_error: 0.6780 - wine_type_accuracy: 0.9927 - val_loss: 0.4765 - val_wine_quality_loss: 0.4393 - val_wine_type_loss: 0.0354 - val_wine_quality_root_mean_squared_error: 0.6639 - val_wine_type_accuracy: 0.9949\n",
            "Epoch 29/180\n",
            "3155/3155 [==============================] - 0s 90us/sample - loss: 0.4788 - wine_quality_loss: 0.4420 - wine_type_loss: 0.0365 - wine_quality_root_mean_squared_error: 0.6650 - wine_type_accuracy: 0.9937 - val_loss: 0.4573 - val_wine_quality_loss: 0.4210 - val_wine_type_loss: 0.0349 - val_wine_quality_root_mean_squared_error: 0.6497 - val_wine_type_accuracy: 0.9949\n",
            "Epoch 30/180\n",
            "3155/3155 [==============================] - 0s 88us/sample - loss: 0.4617 - wine_quality_loss: 0.4268 - wine_type_loss: 0.0358 - wine_quality_root_mean_squared_error: 0.6525 - wine_type_accuracy: 0.9930 - val_loss: 0.4433 - val_wine_quality_loss: 0.4073 - val_wine_type_loss: 0.0346 - val_wine_quality_root_mean_squared_error: 0.6390 - val_wine_type_accuracy: 0.9949\n",
            "Epoch 31/180\n",
            "3155/3155 [==============================] - 0s 75us/sample - loss: 0.4481 - wine_quality_loss: 0.4127 - wine_type_loss: 0.0356 - wine_quality_root_mean_squared_error: 0.6425 - wine_type_accuracy: 0.9933 - val_loss: 0.4321 - val_wine_quality_loss: 0.3962 - val_wine_type_loss: 0.0340 - val_wine_quality_root_mean_squared_error: 0.6307 - val_wine_type_accuracy: 0.9937\n",
            "Epoch 32/180\n",
            "3155/3155 [==============================] - 0s 90us/sample - loss: 0.4358 - wine_quality_loss: 0.4008 - wine_type_loss: 0.0347 - wine_quality_root_mean_squared_error: 0.6333 - wine_type_accuracy: 0.9937 - val_loss: 0.4172 - val_wine_quality_loss: 0.3821 - val_wine_type_loss: 0.0336 - val_wine_quality_root_mean_squared_error: 0.6190 - val_wine_type_accuracy: 0.9937\n",
            "Epoch 33/180\n",
            "3155/3155 [==============================] - 0s 89us/sample - loss: 0.4239 - wine_quality_loss: 0.3902 - wine_type_loss: 0.0343 - wine_quality_root_mean_squared_error: 0.6241 - wine_type_accuracy: 0.9937 - val_loss: 0.4121 - val_wine_quality_loss: 0.3771 - val_wine_type_loss: 0.0333 - val_wine_quality_root_mean_squared_error: 0.6151 - val_wine_type_accuracy: 0.9937\n",
            "Epoch 34/180\n",
            "3155/3155 [==============================] - 0s 74us/sample - loss: 0.4129 - wine_quality_loss: 0.3788 - wine_type_loss: 0.0341 - wine_quality_root_mean_squared_error: 0.6156 - wine_type_accuracy: 0.9937 - val_loss: 0.4052 - val_wine_quality_loss: 0.3710 - val_wine_type_loss: 0.0330 - val_wine_quality_root_mean_squared_error: 0.6098 - val_wine_type_accuracy: 0.9937\n",
            "Epoch 35/180\n",
            "3155/3155 [==============================] - 0s 89us/sample - loss: 0.4047 - wine_quality_loss: 0.3709 - wine_type_loss: 0.0334 - wine_quality_root_mean_squared_error: 0.6093 - wine_type_accuracy: 0.9933 - val_loss: 0.3970 - val_wine_quality_loss: 0.3625 - val_wine_type_loss: 0.0330 - val_wine_quality_root_mean_squared_error: 0.6030 - val_wine_type_accuracy: 0.9937\n",
            "Epoch 36/180\n",
            "3155/3155 [==============================] - 0s 87us/sample - loss: 0.3974 - wine_quality_loss: 0.3644 - wine_type_loss: 0.0345 - wine_quality_root_mean_squared_error: 0.6035 - wine_type_accuracy: 0.9937 - val_loss: 0.3856 - val_wine_quality_loss: 0.3515 - val_wine_type_loss: 0.0328 - val_wine_quality_root_mean_squared_error: 0.5937 - val_wine_type_accuracy: 0.9937\n",
            "Epoch 37/180\n",
            "3155/3155 [==============================] - 0s 75us/sample - loss: 0.3900 - wine_quality_loss: 0.3574 - wine_type_loss: 0.0328 - wine_quality_root_mean_squared_error: 0.5977 - wine_type_accuracy: 0.9937 - val_loss: 0.3825 - val_wine_quality_loss: 0.3485 - val_wine_type_loss: 0.0325 - val_wine_quality_root_mean_squared_error: 0.5913 - val_wine_type_accuracy: 0.9937\n",
            "Epoch 38/180\n",
            "3155/3155 [==============================] - 0s 89us/sample - loss: 0.3831 - wine_quality_loss: 0.3504 - wine_type_loss: 0.0324 - wine_quality_root_mean_squared_error: 0.5922 - wine_type_accuracy: 0.9937 - val_loss: 0.3775 - val_wine_quality_loss: 0.3440 - val_wine_type_loss: 0.0322 - val_wine_quality_root_mean_squared_error: 0.5873 - val_wine_type_accuracy: 0.9937\n",
            "Epoch 39/180\n",
            "3155/3155 [==============================] - 0s 73us/sample - loss: 0.3776 - wine_quality_loss: 0.3453 - wine_type_loss: 0.0320 - wine_quality_root_mean_squared_error: 0.5879 - wine_type_accuracy: 0.9937 - val_loss: 0.3720 - val_wine_quality_loss: 0.3383 - val_wine_type_loss: 0.0321 - val_wine_quality_root_mean_squared_error: 0.5826 - val_wine_type_accuracy: 0.9937\n",
            "Epoch 40/180\n",
            "3155/3155 [==============================] - 0s 89us/sample - loss: 0.3728 - wine_quality_loss: 0.3409 - wine_type_loss: 0.0316 - wine_quality_root_mean_squared_error: 0.5840 - wine_type_accuracy: 0.9937 - val_loss: 0.3687 - val_wine_quality_loss: 0.3355 - val_wine_type_loss: 0.0319 - val_wine_quality_root_mean_squared_error: 0.5801 - val_wine_type_accuracy: 0.9937\n",
            "Epoch 41/180\n",
            "3155/3155 [==============================] - 0s 90us/sample - loss: 0.3693 - wine_quality_loss: 0.3386 - wine_type_loss: 0.0313 - wine_quality_root_mean_squared_error: 0.5813 - wine_type_accuracy: 0.9940 - val_loss: 0.3666 - val_wine_quality_loss: 0.3334 - val_wine_type_loss: 0.0318 - val_wine_quality_root_mean_squared_error: 0.5783 - val_wine_type_accuracy: 0.9937\n",
            "Epoch 42/180\n",
            "3155/3155 [==============================] - 0s 74us/sample - loss: 0.3644 - wine_quality_loss: 0.3328 - wine_type_loss: 0.0310 - wine_quality_root_mean_squared_error: 0.5773 - wine_type_accuracy: 0.9940 - val_loss: 0.3587 - val_wine_quality_loss: 0.3256 - val_wine_type_loss: 0.0317 - val_wine_quality_root_mean_squared_error: 0.5715 - val_wine_type_accuracy: 0.9937\n",
            "Epoch 43/180\n",
            "3155/3155 [==============================] - 0s 91us/sample - loss: 0.3610 - wine_quality_loss: 0.3300 - wine_type_loss: 0.0308 - wine_quality_root_mean_squared_error: 0.5745 - wine_type_accuracy: 0.9940 - val_loss: 0.3617 - val_wine_quality_loss: 0.3286 - val_wine_type_loss: 0.0316 - val_wine_quality_root_mean_squared_error: 0.5742 - val_wine_type_accuracy: 0.9924\n",
            "Epoch 44/180\n",
            "3155/3155 [==============================] - 0s 90us/sample - loss: 0.3589 - wine_quality_loss: 0.3278 - wine_type_loss: 0.0305 - wine_quality_root_mean_squared_error: 0.5730 - wine_type_accuracy: 0.9940 - val_loss: 0.3594 - val_wine_quality_loss: 0.3266 - val_wine_type_loss: 0.0315 - val_wine_quality_root_mean_squared_error: 0.5723 - val_wine_type_accuracy: 0.9937\n",
            "Epoch 45/180\n",
            "3155/3155 [==============================] - 0s 72us/sample - loss: 0.3545 - wine_quality_loss: 0.3240 - wine_type_loss: 0.0302 - wine_quality_root_mean_squared_error: 0.5694 - wine_type_accuracy: 0.9943 - val_loss: 0.3577 - val_wine_quality_loss: 0.3248 - val_wine_type_loss: 0.0313 - val_wine_quality_root_mean_squared_error: 0.5710 - val_wine_type_accuracy: 0.9924\n",
            "Epoch 46/180\n",
            "3155/3155 [==============================] - 0s 76us/sample - loss: 0.3519 - wine_quality_loss: 0.3225 - wine_type_loss: 0.0300 - wine_quality_root_mean_squared_error: 0.5673 - wine_type_accuracy: 0.9943 - val_loss: 0.3541 - val_wine_quality_loss: 0.3216 - val_wine_type_loss: 0.0311 - val_wine_quality_root_mean_squared_error: 0.5680 - val_wine_type_accuracy: 0.9937\n",
            "Epoch 47/180\n",
            "3155/3155 [==============================] - 0s 91us/sample - loss: 0.3485 - wine_quality_loss: 0.3187 - wine_type_loss: 0.0298 - wine_quality_root_mean_squared_error: 0.5645 - wine_type_accuracy: 0.9943 - val_loss: 0.3690 - val_wine_quality_loss: 0.3363 - val_wine_type_loss: 0.0312 - val_wine_quality_root_mean_squared_error: 0.5810 - val_wine_type_accuracy: 0.9924\n",
            "Epoch 48/180\n",
            "3155/3155 [==============================] - 0s 89us/sample - loss: 0.3471 - wine_quality_loss: 0.3174 - wine_type_loss: 0.0295 - wine_quality_root_mean_squared_error: 0.5635 - wine_type_accuracy: 0.9943 - val_loss: 0.3516 - val_wine_quality_loss: 0.3194 - val_wine_type_loss: 0.0309 - val_wine_quality_root_mean_squared_error: 0.5660 - val_wine_type_accuracy: 0.9937\n",
            "Epoch 49/180\n",
            "3155/3155 [==============================] - 0s 75us/sample - loss: 0.3440 - wine_quality_loss: 0.3146 - wine_type_loss: 0.0292 - wine_quality_root_mean_squared_error: 0.5610 - wine_type_accuracy: 0.9943 - val_loss: 0.3520 - val_wine_quality_loss: 0.3196 - val_wine_type_loss: 0.0309 - val_wine_quality_root_mean_squared_error: 0.5663 - val_wine_type_accuracy: 0.9924\n",
            "Epoch 50/180\n",
            "3155/3155 [==============================] - 0s 91us/sample - loss: 0.3439 - wine_quality_loss: 0.3148 - wine_type_loss: 0.0290 - wine_quality_root_mean_squared_error: 0.5611 - wine_type_accuracy: 0.9943 - val_loss: 0.3606 - val_wine_quality_loss: 0.3284 - val_wine_type_loss: 0.0309 - val_wine_quality_root_mean_squared_error: 0.5739 - val_wine_type_accuracy: 0.9924\n",
            "Epoch 51/180\n",
            "3155/3155 [==============================] - 0s 90us/sample - loss: 0.3421 - wine_quality_loss: 0.3133 - wine_type_loss: 0.0288 - wine_quality_root_mean_squared_error: 0.5596 - wine_type_accuracy: 0.9946 - val_loss: 0.3478 - val_wine_quality_loss: 0.3157 - val_wine_type_loss: 0.0308 - val_wine_quality_root_mean_squared_error: 0.5626 - val_wine_type_accuracy: 0.9924\n",
            "Epoch 52/180\n",
            "3155/3155 [==============================] - 0s 90us/sample - loss: 0.3403 - wine_quality_loss: 0.3118 - wine_type_loss: 0.0287 - wine_quality_root_mean_squared_error: 0.5582 - wine_type_accuracy: 0.9943 - val_loss: 0.3462 - val_wine_quality_loss: 0.3143 - val_wine_type_loss: 0.0306 - val_wine_quality_root_mean_squared_error: 0.5614 - val_wine_type_accuracy: 0.9924\n",
            "Epoch 53/180\n",
            "3155/3155 [==============================] - 0s 77us/sample - loss: 0.3385 - wine_quality_loss: 0.3095 - wine_type_loss: 0.0285 - wine_quality_root_mean_squared_error: 0.5568 - wine_type_accuracy: 0.9940 - val_loss: 0.3454 - val_wine_quality_loss: 0.3139 - val_wine_type_loss: 0.0304 - val_wine_quality_root_mean_squared_error: 0.5609 - val_wine_type_accuracy: 0.9937\n",
            "Epoch 54/180\n",
            "3155/3155 [==============================] - 0s 92us/sample - loss: 0.3372 - wine_quality_loss: 0.3088 - wine_type_loss: 0.0282 - wine_quality_root_mean_squared_error: 0.5558 - wine_type_accuracy: 0.9943 - val_loss: 0.3475 - val_wine_quality_loss: 0.3157 - val_wine_type_loss: 0.0305 - val_wine_quality_root_mean_squared_error: 0.5627 - val_wine_type_accuracy: 0.9924\n",
            "Epoch 55/180\n",
            "3155/3155 [==============================] - 0s 92us/sample - loss: 0.3362 - wine_quality_loss: 0.3078 - wine_type_loss: 0.0280 - wine_quality_root_mean_squared_error: 0.5550 - wine_type_accuracy: 0.9943 - val_loss: 0.3423 - val_wine_quality_loss: 0.3107 - val_wine_type_loss: 0.0303 - val_wine_quality_root_mean_squared_error: 0.5582 - val_wine_type_accuracy: 0.9924\n",
            "Epoch 56/180\n",
            "3155/3155 [==============================] - 0s 88us/sample - loss: 0.3343 - wine_quality_loss: 0.3056 - wine_type_loss: 0.0279 - wine_quality_root_mean_squared_error: 0.5534 - wine_type_accuracy: 0.9943 - val_loss: 0.3555 - val_wine_quality_loss: 0.3239 - val_wine_type_loss: 0.0302 - val_wine_quality_root_mean_squared_error: 0.5700 - val_wine_type_accuracy: 0.9924\n",
            "Epoch 57/180\n",
            "3155/3155 [==============================] - 0s 76us/sample - loss: 0.3330 - wine_quality_loss: 0.3051 - wine_type_loss: 0.0276 - wine_quality_root_mean_squared_error: 0.5525 - wine_type_accuracy: 0.9946 - val_loss: 0.3437 - val_wine_quality_loss: 0.3127 - val_wine_type_loss: 0.0300 - val_wine_quality_root_mean_squared_error: 0.5598 - val_wine_type_accuracy: 0.9937\n",
            "Epoch 58/180\n",
            "3155/3155 [==============================] - 0s 88us/sample - loss: 0.3307 - wine_quality_loss: 0.3029 - wine_type_loss: 0.0274 - wine_quality_root_mean_squared_error: 0.5506 - wine_type_accuracy: 0.9949 - val_loss: 0.3416 - val_wine_quality_loss: 0.3106 - val_wine_type_loss: 0.0299 - val_wine_quality_root_mean_squared_error: 0.5580 - val_wine_type_accuracy: 0.9937\n",
            "Epoch 59/180\n",
            "3155/3155 [==============================] - 0s 89us/sample - loss: 0.3296 - wine_quality_loss: 0.3030 - wine_type_loss: 0.0289 - wine_quality_root_mean_squared_error: 0.5497 - wine_type_accuracy: 0.9949 - val_loss: 0.3432 - val_wine_quality_loss: 0.3120 - val_wine_type_loss: 0.0299 - val_wine_quality_root_mean_squared_error: 0.5594 - val_wine_type_accuracy: 0.9924\n",
            "Epoch 60/180\n",
            "3155/3155 [==============================] - 0s 74us/sample - loss: 0.3294 - wine_quality_loss: 0.3027 - wine_type_loss: 0.0272 - wine_quality_root_mean_squared_error: 0.5497 - wine_type_accuracy: 0.9946 - val_loss: 0.3468 - val_wine_quality_loss: 0.3155 - val_wine_type_loss: 0.0299 - val_wine_quality_root_mean_squared_error: 0.5627 - val_wine_type_accuracy: 0.9924\n",
            "Epoch 61/180\n",
            "3155/3155 [==============================] - 0s 91us/sample - loss: 0.3291 - wine_quality_loss: 0.3020 - wine_type_loss: 0.0272 - wine_quality_root_mean_squared_error: 0.5496 - wine_type_accuracy: 0.9949 - val_loss: 0.3388 - val_wine_quality_loss: 0.3080 - val_wine_type_loss: 0.0298 - val_wine_quality_root_mean_squared_error: 0.5555 - val_wine_type_accuracy: 0.9924\n",
            "Epoch 62/180\n",
            "3155/3155 [==============================] - 0s 88us/sample - loss: 0.3260 - wine_quality_loss: 0.2993 - wine_type_loss: 0.0268 - wine_quality_root_mean_squared_error: 0.5470 - wine_type_accuracy: 0.9949 - val_loss: 0.3414 - val_wine_quality_loss: 0.3104 - val_wine_type_loss: 0.0298 - val_wine_quality_root_mean_squared_error: 0.5578 - val_wine_type_accuracy: 0.9924\n",
            "Epoch 63/180\n",
            "3155/3155 [==============================] - 0s 77us/sample - loss: 0.3264 - wine_quality_loss: 0.2994 - wine_type_loss: 0.0266 - wine_quality_root_mean_squared_error: 0.5474 - wine_type_accuracy: 0.9946 - val_loss: 0.3405 - val_wine_quality_loss: 0.3097 - val_wine_type_loss: 0.0297 - val_wine_quality_root_mean_squared_error: 0.5571 - val_wine_type_accuracy: 0.9937\n",
            "Epoch 64/180\n",
            "3155/3155 [==============================] - 0s 90us/sample - loss: 0.3235 - wine_quality_loss: 0.2966 - wine_type_loss: 0.0264 - wine_quality_root_mean_squared_error: 0.5449 - wine_type_accuracy: 0.9946 - val_loss: 0.3451 - val_wine_quality_loss: 0.3145 - val_wine_type_loss: 0.0296 - val_wine_quality_root_mean_squared_error: 0.5614 - val_wine_type_accuracy: 0.9924\n",
            "Epoch 65/180\n",
            "3155/3155 [==============================] - 0s 90us/sample - loss: 0.3239 - wine_quality_loss: 0.2983 - wine_type_loss: 0.0263 - wine_quality_root_mean_squared_error: 0.5455 - wine_type_accuracy: 0.9949 - val_loss: 0.3392 - val_wine_quality_loss: 0.3087 - val_wine_type_loss: 0.0294 - val_wine_quality_root_mean_squared_error: 0.5562 - val_wine_type_accuracy: 0.9937\n",
            "Epoch 66/180\n",
            "3155/3155 [==============================] - 0s 73us/sample - loss: 0.3230 - wine_quality_loss: 0.2970 - wine_type_loss: 0.0262 - wine_quality_root_mean_squared_error: 0.5448 - wine_type_accuracy: 0.9949 - val_loss: 0.3428 - val_wine_quality_loss: 0.3123 - val_wine_type_loss: 0.0294 - val_wine_quality_root_mean_squared_error: 0.5595 - val_wine_type_accuracy: 0.9937\n",
            "Epoch 67/180\n",
            "3155/3155 [==============================] - 0s 91us/sample - loss: 0.3221 - wine_quality_loss: 0.2959 - wine_type_loss: 0.0260 - wine_quality_root_mean_squared_error: 0.5440 - wine_type_accuracy: 0.9946 - val_loss: 0.3434 - val_wine_quality_loss: 0.3132 - val_wine_type_loss: 0.0294 - val_wine_quality_root_mean_squared_error: 0.5600 - val_wine_type_accuracy: 0.9937\n",
            "Epoch 68/180\n",
            "3155/3155 [==============================] - 0s 88us/sample - loss: 0.3209 - wine_quality_loss: 0.2954 - wine_type_loss: 0.0258 - wine_quality_root_mean_squared_error: 0.5431 - wine_type_accuracy: 0.9946 - val_loss: 0.3399 - val_wine_quality_loss: 0.3100 - val_wine_type_loss: 0.0292 - val_wine_quality_root_mean_squared_error: 0.5571 - val_wine_type_accuracy: 0.9949\n",
            "Epoch 69/180\n",
            "3155/3155 [==============================] - 0s 89us/sample - loss: 0.3198 - wine_quality_loss: 0.2939 - wine_type_loss: 0.0257 - wine_quality_root_mean_squared_error: 0.5422 - wine_type_accuracy: 0.9949 - val_loss: 0.3398 - val_wine_quality_loss: 0.3096 - val_wine_type_loss: 0.0291 - val_wine_quality_root_mean_squared_error: 0.5571 - val_wine_type_accuracy: 0.9949\n",
            "Epoch 70/180\n",
            "3155/3155 [==============================] - 0s 78us/sample - loss: 0.3196 - wine_quality_loss: 0.2936 - wine_type_loss: 0.0255 - wine_quality_root_mean_squared_error: 0.5422 - wine_type_accuracy: 0.9949 - val_loss: 0.3464 - val_wine_quality_loss: 0.3163 - val_wine_type_loss: 0.0291 - val_wine_quality_root_mean_squared_error: 0.5630 - val_wine_type_accuracy: 0.9949\n",
            "Epoch 71/180\n",
            "3155/3155 [==============================] - 0s 89us/sample - loss: 0.3180 - wine_quality_loss: 0.2924 - wine_type_loss: 0.0254 - wine_quality_root_mean_squared_error: 0.5408 - wine_type_accuracy: 0.9949 - val_loss: 0.3358 - val_wine_quality_loss: 0.3058 - val_wine_type_loss: 0.0290 - val_wine_quality_root_mean_squared_error: 0.5536 - val_wine_type_accuracy: 0.9937\n",
            "Epoch 72/180\n",
            "3155/3155 [==============================] - 0s 89us/sample - loss: 0.3175 - wine_quality_loss: 0.2923 - wine_type_loss: 0.0252 - wine_quality_root_mean_squared_error: 0.5406 - wine_type_accuracy: 0.9949 - val_loss: 0.3366 - val_wine_quality_loss: 0.3069 - val_wine_type_loss: 0.0288 - val_wine_quality_root_mean_squared_error: 0.5545 - val_wine_type_accuracy: 0.9949\n",
            "Epoch 73/180\n",
            "3155/3155 [==============================] - 0s 74us/sample - loss: 0.3171 - wine_quality_loss: 0.2923 - wine_type_loss: 0.0252 - wine_quality_root_mean_squared_error: 0.5402 - wine_type_accuracy: 0.9949 - val_loss: 0.3431 - val_wine_quality_loss: 0.3135 - val_wine_type_loss: 0.0288 - val_wine_quality_root_mean_squared_error: 0.5604 - val_wine_type_accuracy: 0.9949\n",
            "Epoch 74/180\n",
            "3155/3155 [==============================] - 0s 91us/sample - loss: 0.3155 - wine_quality_loss: 0.2906 - wine_type_loss: 0.0250 - wine_quality_root_mean_squared_error: 0.5389 - wine_type_accuracy: 0.9949 - val_loss: 0.3401 - val_wine_quality_loss: 0.3109 - val_wine_type_loss: 0.0286 - val_wine_quality_root_mean_squared_error: 0.5578 - val_wine_type_accuracy: 0.9949\n",
            "Epoch 75/180\n",
            "3155/3155 [==============================] - 0s 88us/sample - loss: 0.3162 - wine_quality_loss: 0.2913 - wine_type_loss: 0.0248 - wine_quality_root_mean_squared_error: 0.5397 - wine_type_accuracy: 0.9949 - val_loss: 0.3444 - val_wine_quality_loss: 0.3145 - val_wine_type_loss: 0.0287 - val_wine_quality_root_mean_squared_error: 0.5616 - val_wine_type_accuracy: 0.9949\n",
            "Epoch 76/180\n",
            "3155/3155 [==============================] - 0s 74us/sample - loss: 0.3149 - wine_quality_loss: 0.2904 - wine_type_loss: 0.0248 - wine_quality_root_mean_squared_error: 0.5385 - wine_type_accuracy: 0.9949 - val_loss: 0.3400 - val_wine_quality_loss: 0.3104 - val_wine_type_loss: 0.0286 - val_wine_quality_root_mean_squared_error: 0.5578 - val_wine_type_accuracy: 0.9949\n",
            "Epoch 77/180\n",
            "3155/3155 [==============================] - 0s 91us/sample - loss: 0.3142 - wine_quality_loss: 0.2899 - wine_type_loss: 0.0246 - wine_quality_root_mean_squared_error: 0.5381 - wine_type_accuracy: 0.9949 - val_loss: 0.3464 - val_wine_quality_loss: 0.3165 - val_wine_type_loss: 0.0285 - val_wine_quality_root_mean_squared_error: 0.5635 - val_wine_type_accuracy: 0.9949\n",
            "Epoch 78/180\n",
            "3155/3155 [==============================] - 0s 91us/sample - loss: 0.3130 - wine_quality_loss: 0.2884 - wine_type_loss: 0.0245 - wine_quality_root_mean_squared_error: 0.5370 - wine_type_accuracy: 0.9949 - val_loss: 0.3352 - val_wine_quality_loss: 0.3058 - val_wine_type_loss: 0.0284 - val_wine_quality_root_mean_squared_error: 0.5536 - val_wine_type_accuracy: 0.9949\n",
            "Epoch 79/180\n",
            "3155/3155 [==============================] - 0s 74us/sample - loss: 0.3112 - wine_quality_loss: 0.2871 - wine_type_loss: 0.0243 - wine_quality_root_mean_squared_error: 0.5355 - wine_type_accuracy: 0.9949 - val_loss: 0.3402 - val_wine_quality_loss: 0.3107 - val_wine_type_loss: 0.0284 - val_wine_quality_root_mean_squared_error: 0.5581 - val_wine_type_accuracy: 0.9949\n",
            "Epoch 80/180\n",
            "3155/3155 [==============================] - 0s 90us/sample - loss: 0.3115 - wine_quality_loss: 0.2880 - wine_type_loss: 0.0242 - wine_quality_root_mean_squared_error: 0.5360 - wine_type_accuracy: 0.9949 - val_loss: 0.3356 - val_wine_quality_loss: 0.3061 - val_wine_type_loss: 0.0285 - val_wine_quality_root_mean_squared_error: 0.5538 - val_wine_type_accuracy: 0.9937\n",
            "Epoch 81/180\n",
            "3155/3155 [==============================] - 0s 91us/sample - loss: 0.3111 - wine_quality_loss: 0.2866 - wine_type_loss: 0.0241 - wine_quality_root_mean_squared_error: 0.5357 - wine_type_accuracy: 0.9949 - val_loss: 0.3337 - val_wine_quality_loss: 0.3045 - val_wine_type_loss: 0.0282 - val_wine_quality_root_mean_squared_error: 0.5524 - val_wine_type_accuracy: 0.9949\n",
            "Epoch 82/180\n",
            "3155/3155 [==============================] - 0s 88us/sample - loss: 0.3100 - wine_quality_loss: 0.2858 - wine_type_loss: 0.0240 - wine_quality_root_mean_squared_error: 0.5348 - wine_type_accuracy: 0.9949 - val_loss: 0.3345 - val_wine_quality_loss: 0.3052 - val_wine_type_loss: 0.0283 - val_wine_quality_root_mean_squared_error: 0.5531 - val_wine_type_accuracy: 0.9949\n",
            "Epoch 83/180\n",
            "3155/3155 [==============================] - 0s 75us/sample - loss: 0.3090 - wine_quality_loss: 0.2850 - wine_type_loss: 0.0239 - wine_quality_root_mean_squared_error: 0.5340 - wine_type_accuracy: 0.9949 - val_loss: 0.3373 - val_wine_quality_loss: 0.3081 - val_wine_type_loss: 0.0283 - val_wine_quality_root_mean_squared_error: 0.5556 - val_wine_type_accuracy: 0.9949\n",
            "Epoch 84/180\n",
            "3155/3155 [==============================] - 0s 90us/sample - loss: 0.3093 - wine_quality_loss: 0.2854 - wine_type_loss: 0.0238 - wine_quality_root_mean_squared_error: 0.5342 - wine_type_accuracy: 0.9949 - val_loss: 0.3361 - val_wine_quality_loss: 0.3067 - val_wine_type_loss: 0.0282 - val_wine_quality_root_mean_squared_error: 0.5546 - val_wine_type_accuracy: 0.9949\n",
            "Epoch 85/180\n",
            "3155/3155 [==============================] - 0s 88us/sample - loss: 0.3075 - wine_quality_loss: 0.2841 - wine_type_loss: 0.0236 - wine_quality_root_mean_squared_error: 0.5327 - wine_type_accuracy: 0.9949 - val_loss: 0.3363 - val_wine_quality_loss: 0.3071 - val_wine_type_loss: 0.0282 - val_wine_quality_root_mean_squared_error: 0.5547 - val_wine_type_accuracy: 0.9937\n",
            "Epoch 86/180\n",
            "3155/3155 [==============================] - 0s 75us/sample - loss: 0.3074 - wine_quality_loss: 0.2833 - wine_type_loss: 0.0234 - wine_quality_root_mean_squared_error: 0.5328 - wine_type_accuracy: 0.9952 - val_loss: 0.3393 - val_wine_quality_loss: 0.3102 - val_wine_type_loss: 0.0281 - val_wine_quality_root_mean_squared_error: 0.5575 - val_wine_type_accuracy: 0.9937\n",
            "Epoch 87/180\n",
            "3155/3155 [==============================] - 0s 90us/sample - loss: 0.3064 - wine_quality_loss: 0.2843 - wine_type_loss: 0.0234 - wine_quality_root_mean_squared_error: 0.5319 - wine_type_accuracy: 0.9952 - val_loss: 0.3362 - val_wine_quality_loss: 0.3071 - val_wine_type_loss: 0.0280 - val_wine_quality_root_mean_squared_error: 0.5548 - val_wine_type_accuracy: 0.9937\n",
            "Epoch 88/180\n",
            "3155/3155 [==============================] - 0s 71us/sample - loss: 0.3051 - wine_quality_loss: 0.2814 - wine_type_loss: 0.0232 - wine_quality_root_mean_squared_error: 0.5308 - wine_type_accuracy: 0.9959 - val_loss: 0.3345 - val_wine_quality_loss: 0.3055 - val_wine_type_loss: 0.0280 - val_wine_quality_root_mean_squared_error: 0.5532 - val_wine_type_accuracy: 0.9937\n",
            "Epoch 89/180\n",
            "3155/3155 [==============================] - 0s 92us/sample - loss: 0.3044 - wine_quality_loss: 0.2806 - wine_type_loss: 0.0231 - wine_quality_root_mean_squared_error: 0.5303 - wine_type_accuracy: 0.9959 - val_loss: 0.3385 - val_wine_quality_loss: 0.3098 - val_wine_type_loss: 0.0279 - val_wine_quality_root_mean_squared_error: 0.5570 - val_wine_type_accuracy: 0.9949\n",
            "Epoch 90/180\n",
            "3155/3155 [==============================] - 0s 91us/sample - loss: 0.3036 - wine_quality_loss: 0.2807 - wine_type_loss: 0.0230 - wine_quality_root_mean_squared_error: 0.5296 - wine_type_accuracy: 0.9956 - val_loss: 0.3330 - val_wine_quality_loss: 0.3040 - val_wine_type_loss: 0.0280 - val_wine_quality_root_mean_squared_error: 0.5520 - val_wine_type_accuracy: 0.9937\n",
            "Epoch 91/180\n",
            "3155/3155 [==============================] - 0s 89us/sample - loss: 0.3046 - wine_quality_loss: 0.2825 - wine_type_loss: 0.0229 - wine_quality_root_mean_squared_error: 0.5307 - wine_type_accuracy: 0.9956 - val_loss: 0.3383 - val_wine_quality_loss: 0.3095 - val_wine_type_loss: 0.0279 - val_wine_quality_root_mean_squared_error: 0.5569 - val_wine_type_accuracy: 0.9949\n",
            "Epoch 92/180\n",
            "3155/3155 [==============================] - 0s 74us/sample - loss: 0.3033 - wine_quality_loss: 0.2806 - wine_type_loss: 0.0228 - wine_quality_root_mean_squared_error: 0.5296 - wine_type_accuracy: 0.9956 - val_loss: 0.3364 - val_wine_quality_loss: 0.3074 - val_wine_type_loss: 0.0279 - val_wine_quality_root_mean_squared_error: 0.5551 - val_wine_type_accuracy: 0.9949\n",
            "Epoch 93/180\n",
            "3155/3155 [==============================] - 0s 90us/sample - loss: 0.3020 - wine_quality_loss: 0.2790 - wine_type_loss: 0.0227 - wine_quality_root_mean_squared_error: 0.5285 - wine_type_accuracy: 0.9959 - val_loss: 0.3443 - val_wine_quality_loss: 0.3156 - val_wine_type_loss: 0.0277 - val_wine_quality_root_mean_squared_error: 0.5623 - val_wine_type_accuracy: 0.9949\n",
            "Epoch 94/180\n",
            "3155/3155 [==============================] - 0s 89us/sample - loss: 0.3024 - wine_quality_loss: 0.2798 - wine_type_loss: 0.0226 - wine_quality_root_mean_squared_error: 0.5289 - wine_type_accuracy: 0.9959 - val_loss: 0.3351 - val_wine_quality_loss: 0.3066 - val_wine_type_loss: 0.0276 - val_wine_quality_root_mean_squared_error: 0.5542 - val_wine_type_accuracy: 0.9949\n",
            "Epoch 95/180\n",
            "3155/3155 [==============================] - 0s 74us/sample - loss: 0.3014 - wine_quality_loss: 0.2785 - wine_type_loss: 0.0224 - wine_quality_root_mean_squared_error: 0.5281 - wine_type_accuracy: 0.9952 - val_loss: 0.3387 - val_wine_quality_loss: 0.3100 - val_wine_type_loss: 0.0277 - val_wine_quality_root_mean_squared_error: 0.5573 - val_wine_type_accuracy: 0.9949\n",
            "Epoch 96/180\n",
            "3155/3155 [==============================] - 0s 89us/sample - loss: 0.3008 - wine_quality_loss: 0.2785 - wine_type_loss: 0.0224 - wine_quality_root_mean_squared_error: 0.5276 - wine_type_accuracy: 0.9959 - val_loss: 0.3332 - val_wine_quality_loss: 0.3047 - val_wine_type_loss: 0.0276 - val_wine_quality_root_mean_squared_error: 0.5525 - val_wine_type_accuracy: 0.9949\n",
            "Epoch 97/180\n",
            "3155/3155 [==============================] - 0s 88us/sample - loss: 0.3000 - wine_quality_loss: 0.2778 - wine_type_loss: 0.0222 - wine_quality_root_mean_squared_error: 0.5270 - wine_type_accuracy: 0.9959 - val_loss: 0.3348 - val_wine_quality_loss: 0.3065 - val_wine_type_loss: 0.0276 - val_wine_quality_root_mean_squared_error: 0.5540 - val_wine_type_accuracy: 0.9949\n",
            "Epoch 98/180\n",
            "3155/3155 [==============================] - 0s 73us/sample - loss: 0.2977 - wine_quality_loss: 0.2756 - wine_type_loss: 0.0222 - wine_quality_root_mean_squared_error: 0.5248 - wine_type_accuracy: 0.9962 - val_loss: 0.3489 - val_wine_quality_loss: 0.3204 - val_wine_type_loss: 0.0274 - val_wine_quality_root_mean_squared_error: 0.5667 - val_wine_type_accuracy: 0.9949\n",
            "Epoch 99/180\n",
            "3155/3155 [==============================] - 0s 87us/sample - loss: 0.2995 - wine_quality_loss: 0.2770 - wine_type_loss: 0.0220 - wine_quality_root_mean_squared_error: 0.5266 - wine_type_accuracy: 0.9962 - val_loss: 0.3389 - val_wine_quality_loss: 0.3105 - val_wine_type_loss: 0.0274 - val_wine_quality_root_mean_squared_error: 0.5578 - val_wine_type_accuracy: 0.9949\n",
            "Epoch 100/180\n",
            "3155/3155 [==============================] - 0s 71us/sample - loss: 0.2979 - wine_quality_loss: 0.2760 - wine_type_loss: 0.0226 - wine_quality_root_mean_squared_error: 0.5252 - wine_type_accuracy: 0.9962 - val_loss: 0.3406 - val_wine_quality_loss: 0.3124 - val_wine_type_loss: 0.0275 - val_wine_quality_root_mean_squared_error: 0.5592 - val_wine_type_accuracy: 0.9949\n",
            "Epoch 101/180\n",
            "3155/3155 [==============================] - 0s 88us/sample - loss: 0.2978 - wine_quality_loss: 0.2751 - wine_type_loss: 0.0218 - wine_quality_root_mean_squared_error: 0.5252 - wine_type_accuracy: 0.9962 - val_loss: 0.3318 - val_wine_quality_loss: 0.3036 - val_wine_type_loss: 0.0273 - val_wine_quality_root_mean_squared_error: 0.5515 - val_wine_type_accuracy: 0.9949\n",
            "Epoch 102/180\n",
            "3155/3155 [==============================] - 0s 72us/sample - loss: 0.2975 - wine_quality_loss: 0.2763 - wine_type_loss: 0.0217 - wine_quality_root_mean_squared_error: 0.5251 - wine_type_accuracy: 0.9962 - val_loss: 0.3325 - val_wine_quality_loss: 0.3042 - val_wine_type_loss: 0.0272 - val_wine_quality_root_mean_squared_error: 0.5522 - val_wine_type_accuracy: 0.9949\n",
            "Epoch 103/180\n",
            "3155/3155 [==============================] - 0s 87us/sample - loss: 0.2958 - wine_quality_loss: 0.2736 - wine_type_loss: 0.0217 - wine_quality_root_mean_squared_error: 0.5236 - wine_type_accuracy: 0.9962 - val_loss: 0.3376 - val_wine_quality_loss: 0.3097 - val_wine_type_loss: 0.0271 - val_wine_quality_root_mean_squared_error: 0.5569 - val_wine_type_accuracy: 0.9949\n",
            "Epoch 104/180\n",
            "3155/3155 [==============================] - 0s 74us/sample - loss: 0.2961 - wine_quality_loss: 0.2741 - wine_type_loss: 0.0215 - wine_quality_root_mean_squared_error: 0.5239 - wine_type_accuracy: 0.9962 - val_loss: 0.3329 - val_wine_quality_loss: 0.3050 - val_wine_type_loss: 0.0270 - val_wine_quality_root_mean_squared_error: 0.5527 - val_wine_type_accuracy: 0.9949\n",
            "Epoch 105/180\n",
            "3155/3155 [==============================] - 0s 92us/sample - loss: 0.2952 - wine_quality_loss: 0.2743 - wine_type_loss: 0.0214 - wine_quality_root_mean_squared_error: 0.5232 - wine_type_accuracy: 0.9962 - val_loss: 0.3453 - val_wine_quality_loss: 0.3170 - val_wine_type_loss: 0.0271 - val_wine_quality_root_mean_squared_error: 0.5638 - val_wine_type_accuracy: 0.9949\n",
            "Epoch 106/180\n",
            "3155/3155 [==============================] - 0s 86us/sample - loss: 0.2947 - wine_quality_loss: 0.2732 - wine_type_loss: 0.0213 - wine_quality_root_mean_squared_error: 0.5228 - wine_type_accuracy: 0.9962 - val_loss: 0.3349 - val_wine_quality_loss: 0.3069 - val_wine_type_loss: 0.0272 - val_wine_quality_root_mean_squared_error: 0.5544 - val_wine_type_accuracy: 0.9949\n",
            "Epoch 107/180\n",
            "3155/3155 [==============================] - 0s 74us/sample - loss: 0.2953 - wine_quality_loss: 0.2738 - wine_type_loss: 0.0213 - wine_quality_root_mean_squared_error: 0.5235 - wine_type_accuracy: 0.9962 - val_loss: 0.3375 - val_wine_quality_loss: 0.3094 - val_wine_type_loss: 0.0271 - val_wine_quality_root_mean_squared_error: 0.5568 - val_wine_type_accuracy: 0.9949\n",
            "Epoch 108/180\n",
            "3155/3155 [==============================] - 0s 89us/sample - loss: 0.2929 - wine_quality_loss: 0.2719 - wine_type_loss: 0.0213 - wine_quality_root_mean_squared_error: 0.5212 - wine_type_accuracy: 0.9962 - val_loss: 0.3392 - val_wine_quality_loss: 0.3112 - val_wine_type_loss: 0.0271 - val_wine_quality_root_mean_squared_error: 0.5584 - val_wine_type_accuracy: 0.9949\n",
            "Epoch 109/180\n",
            "3155/3155 [==============================] - 0s 89us/sample - loss: 0.2934 - wine_quality_loss: 0.2721 - wine_type_loss: 0.0211 - wine_quality_root_mean_squared_error: 0.5218 - wine_type_accuracy: 0.9962 - val_loss: 0.3365 - val_wine_quality_loss: 0.3087 - val_wine_type_loss: 0.0270 - val_wine_quality_root_mean_squared_error: 0.5560 - val_wine_type_accuracy: 0.9949\n",
            "Epoch 110/180\n",
            "3155/3155 [==============================] - 0s 71us/sample - loss: 0.2922 - wine_quality_loss: 0.2711 - wine_type_loss: 0.0210 - wine_quality_root_mean_squared_error: 0.5207 - wine_type_accuracy: 0.9962 - val_loss: 0.3333 - val_wine_quality_loss: 0.3058 - val_wine_type_loss: 0.0268 - val_wine_quality_root_mean_squared_error: 0.5533 - val_wine_type_accuracy: 0.9949\n",
            "Epoch 111/180\n",
            "3155/3155 [==============================] - 0s 88us/sample - loss: 0.2922 - wine_quality_loss: 0.2709 - wine_type_loss: 0.0209 - wine_quality_root_mean_squared_error: 0.5208 - wine_type_accuracy: 0.9962 - val_loss: 0.3350 - val_wine_quality_loss: 0.3074 - val_wine_type_loss: 0.0269 - val_wine_quality_root_mean_squared_error: 0.5548 - val_wine_type_accuracy: 0.9949\n",
            "Epoch 112/180\n",
            "3155/3155 [==============================] - 0s 72us/sample - loss: 0.2916 - wine_quality_loss: 0.2706 - wine_type_loss: 0.0207 - wine_quality_root_mean_squared_error: 0.5203 - wine_type_accuracy: 0.9962 - val_loss: 0.3378 - val_wine_quality_loss: 0.3097 - val_wine_type_loss: 0.0270 - val_wine_quality_root_mean_squared_error: 0.5572 - val_wine_type_accuracy: 0.9949\n",
            "Epoch 113/180\n",
            "3155/3155 [==============================] - 0s 86us/sample - loss: 0.2903 - wine_quality_loss: 0.2696 - wine_type_loss: 0.0206 - wine_quality_root_mean_squared_error: 0.5192 - wine_type_accuracy: 0.9962 - val_loss: 0.3538 - val_wine_quality_loss: 0.3258 - val_wine_type_loss: 0.0269 - val_wine_quality_root_mean_squared_error: 0.5715 - val_wine_type_accuracy: 0.9949\n",
            "Epoch 114/180\n",
            "3155/3155 [==============================] - 0s 72us/sample - loss: 0.2907 - wine_quality_loss: 0.2700 - wine_type_loss: 0.0206 - wine_quality_root_mean_squared_error: 0.5197 - wine_type_accuracy: 0.9962 - val_loss: 0.3397 - val_wine_quality_loss: 0.3118 - val_wine_type_loss: 0.0268 - val_wine_quality_root_mean_squared_error: 0.5591 - val_wine_type_accuracy: 0.9949\n",
            "Epoch 115/180\n",
            "3155/3155 [==============================] - 0s 89us/sample - loss: 0.2898 - wine_quality_loss: 0.2693 - wine_type_loss: 0.0204 - wine_quality_root_mean_squared_error: 0.5190 - wine_type_accuracy: 0.9962 - val_loss: 0.3345 - val_wine_quality_loss: 0.3070 - val_wine_type_loss: 0.0267 - val_wine_quality_root_mean_squared_error: 0.5545 - val_wine_type_accuracy: 0.9949\n",
            "Epoch 116/180\n",
            "3155/3155 [==============================] - 0s 88us/sample - loss: 0.2894 - wine_quality_loss: 0.2696 - wine_type_loss: 0.0204 - wine_quality_root_mean_squared_error: 0.5187 - wine_type_accuracy: 0.9962 - val_loss: 0.3369 - val_wine_quality_loss: 0.3094 - val_wine_type_loss: 0.0267 - val_wine_quality_root_mean_squared_error: 0.5566 - val_wine_type_accuracy: 0.9949\n",
            "Epoch 117/180\n",
            "3155/3155 [==============================] - 0s 74us/sample - loss: 0.2883 - wine_quality_loss: 0.2679 - wine_type_loss: 0.0203 - wine_quality_root_mean_squared_error: 0.5176 - wine_type_accuracy: 0.9962 - val_loss: 0.3336 - val_wine_quality_loss: 0.3061 - val_wine_type_loss: 0.0267 - val_wine_quality_root_mean_squared_error: 0.5537 - val_wine_type_accuracy: 0.9949\n",
            "Epoch 118/180\n",
            "3155/3155 [==============================] - 0s 85us/sample - loss: 0.2891 - wine_quality_loss: 0.2688 - wine_type_loss: 0.0202 - wine_quality_root_mean_squared_error: 0.5185 - wine_type_accuracy: 0.9962 - val_loss: 0.3338 - val_wine_quality_loss: 0.3065 - val_wine_type_loss: 0.0266 - val_wine_quality_root_mean_squared_error: 0.5539 - val_wine_type_accuracy: 0.9949\n",
            "Epoch 119/180\n",
            "3155/3155 [==============================] - 0s 72us/sample - loss: 0.2859 - wine_quality_loss: 0.2660 - wine_type_loss: 0.0200 - wine_quality_root_mean_squared_error: 0.5155 - wine_type_accuracy: 0.9962 - val_loss: 0.3409 - val_wine_quality_loss: 0.3132 - val_wine_type_loss: 0.0268 - val_wine_quality_root_mean_squared_error: 0.5602 - val_wine_type_accuracy: 0.9949\n",
            "Epoch 120/180\n",
            "3155/3155 [==============================] - 0s 86us/sample - loss: 0.2872 - wine_quality_loss: 0.2668 - wine_type_loss: 0.0201 - wine_quality_root_mean_squared_error: 0.5168 - wine_type_accuracy: 0.9962 - val_loss: 0.3401 - val_wine_quality_loss: 0.3127 - val_wine_type_loss: 0.0266 - val_wine_quality_root_mean_squared_error: 0.5596 - val_wine_type_accuracy: 0.9949\n",
            "Epoch 121/180\n",
            "3155/3155 [==============================] - 0s 75us/sample - loss: 0.2862 - wine_quality_loss: 0.2659 - wine_type_loss: 0.0199 - wine_quality_root_mean_squared_error: 0.5160 - wine_type_accuracy: 0.9962 - val_loss: 0.3351 - val_wine_quality_loss: 0.3080 - val_wine_type_loss: 0.0265 - val_wine_quality_root_mean_squared_error: 0.5553 - val_wine_type_accuracy: 0.9949\n",
            "Epoch 122/180\n",
            "3155/3155 [==============================] - 0s 90us/sample - loss: 0.2853 - wine_quality_loss: 0.2653 - wine_type_loss: 0.0198 - wine_quality_root_mean_squared_error: 0.5152 - wine_type_accuracy: 0.9962 - val_loss: 0.3303 - val_wine_quality_loss: 0.3029 - val_wine_type_loss: 0.0265 - val_wine_quality_root_mean_squared_error: 0.5509 - val_wine_type_accuracy: 0.9949\n",
            "Epoch 123/180\n",
            "3155/3155 [==============================] - 0s 88us/sample - loss: 0.2852 - wine_quality_loss: 0.2654 - wine_type_loss: 0.0197 - wine_quality_root_mean_squared_error: 0.5151 - wine_type_accuracy: 0.9965 - val_loss: 0.3397 - val_wine_quality_loss: 0.3122 - val_wine_type_loss: 0.0264 - val_wine_quality_root_mean_squared_error: 0.5595 - val_wine_type_accuracy: 0.9949\n",
            "Epoch 124/180\n",
            "3155/3155 [==============================] - 0s 75us/sample - loss: 0.2848 - wine_quality_loss: 0.2648 - wine_type_loss: 0.0197 - wine_quality_root_mean_squared_error: 0.5148 - wine_type_accuracy: 0.9962 - val_loss: 0.3485 - val_wine_quality_loss: 0.3209 - val_wine_type_loss: 0.0264 - val_wine_quality_root_mean_squared_error: 0.5672 - val_wine_type_accuracy: 0.9949\n",
            "Epoch 125/180\n",
            "3155/3155 [==============================] - 0s 94us/sample - loss: 0.2849 - wine_quality_loss: 0.2649 - wine_type_loss: 0.0195 - wine_quality_root_mean_squared_error: 0.5151 - wine_type_accuracy: 0.9965 - val_loss: 0.3379 - val_wine_quality_loss: 0.3106 - val_wine_type_loss: 0.0263 - val_wine_quality_root_mean_squared_error: 0.5580 - val_wine_type_accuracy: 0.9949\n",
            "Epoch 126/180\n",
            "3155/3155 [==============================] - 0s 87us/sample - loss: 0.2846 - wine_quality_loss: 0.2649 - wine_type_loss: 0.0195 - wine_quality_root_mean_squared_error: 0.5148 - wine_type_accuracy: 0.9965 - val_loss: 0.3360 - val_wine_quality_loss: 0.3088 - val_wine_type_loss: 0.0263 - val_wine_quality_root_mean_squared_error: 0.5562 - val_wine_type_accuracy: 0.9949\n",
            "Epoch 127/180\n",
            "3155/3155 [==============================] - 0s 72us/sample - loss: 0.2837 - wine_quality_loss: 0.2641 - wine_type_loss: 0.0194 - wine_quality_root_mean_squared_error: 0.5141 - wine_type_accuracy: 0.9965 - val_loss: 0.3434 - val_wine_quality_loss: 0.3160 - val_wine_type_loss: 0.0263 - val_wine_quality_root_mean_squared_error: 0.5629 - val_wine_type_accuracy: 0.9949\n",
            "Epoch 128/180\n",
            "3155/3155 [==============================] - 0s 87us/sample - loss: 0.2837 - wine_quality_loss: 0.2648 - wine_type_loss: 0.0195 - wine_quality_root_mean_squared_error: 0.5141 - wine_type_accuracy: 0.9965 - val_loss: 0.3357 - val_wine_quality_loss: 0.3084 - val_wine_type_loss: 0.0263 - val_wine_quality_root_mean_squared_error: 0.5560 - val_wine_type_accuracy: 0.9949\n",
            "Epoch 129/180\n",
            "3155/3155 [==============================] - 0s 73us/sample - loss: 0.2824 - wine_quality_loss: 0.2630 - wine_type_loss: 0.0192 - wine_quality_root_mean_squared_error: 0.5129 - wine_type_accuracy: 0.9965 - val_loss: 0.3354 - val_wine_quality_loss: 0.3085 - val_wine_type_loss: 0.0262 - val_wine_quality_root_mean_squared_error: 0.5557 - val_wine_type_accuracy: 0.9949\n",
            "Epoch 130/180\n",
            "3155/3155 [==============================] - 0s 88us/sample - loss: 0.2829 - wine_quality_loss: 0.2637 - wine_type_loss: 0.0191 - wine_quality_root_mean_squared_error: 0.5135 - wine_type_accuracy: 0.9965 - val_loss: 0.3385 - val_wine_quality_loss: 0.3114 - val_wine_type_loss: 0.0262 - val_wine_quality_root_mean_squared_error: 0.5586 - val_wine_type_accuracy: 0.9949\n",
            "Epoch 131/180\n",
            "3155/3155 [==============================] - 0s 85us/sample - loss: 0.2814 - wine_quality_loss: 0.2626 - wine_type_loss: 0.0190 - wine_quality_root_mean_squared_error: 0.5122 - wine_type_accuracy: 0.9965 - val_loss: 0.3381 - val_wine_quality_loss: 0.3110 - val_wine_type_loss: 0.0262 - val_wine_quality_root_mean_squared_error: 0.5582 - val_wine_type_accuracy: 0.9949\n",
            "Epoch 132/180\n",
            "3155/3155 [==============================] - 0s 73us/sample - loss: 0.2824 - wine_quality_loss: 0.2630 - wine_type_loss: 0.0191 - wine_quality_root_mean_squared_error: 0.5132 - wine_type_accuracy: 0.9965 - val_loss: 0.3365 - val_wine_quality_loss: 0.3095 - val_wine_type_loss: 0.0261 - val_wine_quality_root_mean_squared_error: 0.5569 - val_wine_type_accuracy: 0.9949\n",
            "Epoch 133/180\n",
            "3155/3155 [==============================] - 0s 87us/sample - loss: 0.2812 - wine_quality_loss: 0.2622 - wine_type_loss: 0.0189 - wine_quality_root_mean_squared_error: 0.5121 - wine_type_accuracy: 0.9965 - val_loss: 0.3403 - val_wine_quality_loss: 0.3133 - val_wine_type_loss: 0.0262 - val_wine_quality_root_mean_squared_error: 0.5601 - val_wine_type_accuracy: 0.9949\n",
            "Epoch 134/180\n",
            "3155/3155 [==============================] - 0s 73us/sample - loss: 0.2809 - wine_quality_loss: 0.2619 - wine_type_loss: 0.0188 - wine_quality_root_mean_squared_error: 0.5119 - wine_type_accuracy: 0.9965 - val_loss: 0.3364 - val_wine_quality_loss: 0.3095 - val_wine_type_loss: 0.0260 - val_wine_quality_root_mean_squared_error: 0.5568 - val_wine_type_accuracy: 0.9949\n",
            "Epoch 135/180\n",
            "3155/3155 [==============================] - 0s 87us/sample - loss: 0.2791 - wine_quality_loss: 0.2599 - wine_type_loss: 0.0187 - wine_quality_root_mean_squared_error: 0.5102 - wine_type_accuracy: 0.9965 - val_loss: 0.3343 - val_wine_quality_loss: 0.3074 - val_wine_type_loss: 0.0261 - val_wine_quality_root_mean_squared_error: 0.5549 - val_wine_type_accuracy: 0.9949\n",
            "Epoch 136/180\n",
            "3155/3155 [==============================] - 0s 72us/sample - loss: 0.2797 - wine_quality_loss: 0.2615 - wine_type_loss: 0.0187 - wine_quality_root_mean_squared_error: 0.5109 - wine_type_accuracy: 0.9965 - val_loss: 0.3323 - val_wine_quality_loss: 0.3055 - val_wine_type_loss: 0.0260 - val_wine_quality_root_mean_squared_error: 0.5531 - val_wine_type_accuracy: 0.9949\n",
            "Epoch 137/180\n",
            "3155/3155 [==============================] - 0s 88us/sample - loss: 0.2780 - wine_quality_loss: 0.2594 - wine_type_loss: 0.0186 - wine_quality_root_mean_squared_error: 0.5092 - wine_type_accuracy: 0.9965 - val_loss: 0.3464 - val_wine_quality_loss: 0.3195 - val_wine_type_loss: 0.0260 - val_wine_quality_root_mean_squared_error: 0.5657 - val_wine_type_accuracy: 0.9949\n",
            "Epoch 138/180\n",
            "3155/3155 [==============================] - 0s 71us/sample - loss: 0.2791 - wine_quality_loss: 0.2601 - wine_type_loss: 0.0185 - wine_quality_root_mean_squared_error: 0.5104 - wine_type_accuracy: 0.9965 - val_loss: 0.3375 - val_wine_quality_loss: 0.3104 - val_wine_type_loss: 0.0260 - val_wine_quality_root_mean_squared_error: 0.5578 - val_wine_type_accuracy: 0.9949\n",
            "Epoch 139/180\n",
            "3155/3155 [==============================] - 0s 89us/sample - loss: 0.2788 - wine_quality_loss: 0.2602 - wine_type_loss: 0.0184 - wine_quality_root_mean_squared_error: 0.5102 - wine_type_accuracy: 0.9965 - val_loss: 0.3324 - val_wine_quality_loss: 0.3054 - val_wine_type_loss: 0.0260 - val_wine_quality_root_mean_squared_error: 0.5533 - val_wine_type_accuracy: 0.9949\n",
            "Epoch 140/180\n",
            "3155/3155 [==============================] - 0s 72us/sample - loss: 0.2780 - wine_quality_loss: 0.2596 - wine_type_loss: 0.0183 - wine_quality_root_mean_squared_error: 0.5095 - wine_type_accuracy: 0.9965 - val_loss: 0.3402 - val_wine_quality_loss: 0.3135 - val_wine_type_loss: 0.0259 - val_wine_quality_root_mean_squared_error: 0.5603 - val_wine_type_accuracy: 0.9949\n",
            "Epoch 141/180\n",
            "3155/3155 [==============================] - 0s 74us/sample - loss: 0.2770 - wine_quality_loss: 0.2587 - wine_type_loss: 0.0183 - wine_quality_root_mean_squared_error: 0.5086 - wine_type_accuracy: 0.9965 - val_loss: 0.3381 - val_wine_quality_loss: 0.3113 - val_wine_type_loss: 0.0260 - val_wine_quality_root_mean_squared_error: 0.5583 - val_wine_type_accuracy: 0.9949\n",
            "Epoch 142/180\n",
            "3155/3155 [==============================] - 0s 86us/sample - loss: 0.2766 - wine_quality_loss: 0.2583 - wine_type_loss: 0.0194 - wine_quality_root_mean_squared_error: 0.5082 - wine_type_accuracy: 0.9965 - val_loss: 0.3365 - val_wine_quality_loss: 0.3096 - val_wine_type_loss: 0.0258 - val_wine_quality_root_mean_squared_error: 0.5571 - val_wine_type_accuracy: 0.9949\n",
            "Epoch 143/180\n",
            "3155/3155 [==============================] - 0s 73us/sample - loss: 0.2765 - wine_quality_loss: 0.2579 - wine_type_loss: 0.0181 - wine_quality_root_mean_squared_error: 0.5082 - wine_type_accuracy: 0.9965 - val_loss: 0.3362 - val_wine_quality_loss: 0.3095 - val_wine_type_loss: 0.0257 - val_wine_quality_root_mean_squared_error: 0.5569 - val_wine_type_accuracy: 0.9949\n",
            "Epoch 144/180\n",
            "3155/3155 [==============================] - 0s 87us/sample - loss: 0.2763 - wine_quality_loss: 0.2580 - wine_type_loss: 0.0180 - wine_quality_root_mean_squared_error: 0.5082 - wine_type_accuracy: 0.9965 - val_loss: 0.3351 - val_wine_quality_loss: 0.3089 - val_wine_type_loss: 0.0257 - val_wine_quality_root_mean_squared_error: 0.5560 - val_wine_type_accuracy: 0.9949\n",
            "Epoch 145/180\n",
            "3155/3155 [==============================] - 0s 72us/sample - loss: 0.2768 - wine_quality_loss: 0.2585 - wine_type_loss: 0.0179 - wine_quality_root_mean_squared_error: 0.5087 - wine_type_accuracy: 0.9965 - val_loss: 0.3428 - val_wine_quality_loss: 0.3164 - val_wine_type_loss: 0.0257 - val_wine_quality_root_mean_squared_error: 0.5628 - val_wine_type_accuracy: 0.9949\n",
            "Epoch 146/180\n",
            "3155/3155 [==============================] - 0s 87us/sample - loss: 0.2758 - wine_quality_loss: 0.2577 - wine_type_loss: 0.0190 - wine_quality_root_mean_squared_error: 0.5079 - wine_type_accuracy: 0.9965 - val_loss: 0.3349 - val_wine_quality_loss: 0.3085 - val_wine_type_loss: 0.0256 - val_wine_quality_root_mean_squared_error: 0.5558 - val_wine_type_accuracy: 0.9949\n",
            "Epoch 147/180\n",
            "3155/3155 [==============================] - 0s 72us/sample - loss: 0.2751 - wine_quality_loss: 0.2571 - wine_type_loss: 0.0178 - wine_quality_root_mean_squared_error: 0.5072 - wine_type_accuracy: 0.9965 - val_loss: 0.3351 - val_wine_quality_loss: 0.3086 - val_wine_type_loss: 0.0257 - val_wine_quality_root_mean_squared_error: 0.5559 - val_wine_type_accuracy: 0.9949\n",
            "Epoch 148/180\n",
            "3155/3155 [==============================] - 0s 89us/sample - loss: 0.2752 - wine_quality_loss: 0.2575 - wine_type_loss: 0.0177 - wine_quality_root_mean_squared_error: 0.5074 - wine_type_accuracy: 0.9965 - val_loss: 0.3357 - val_wine_quality_loss: 0.3092 - val_wine_type_loss: 0.0257 - val_wine_quality_root_mean_squared_error: 0.5565 - val_wine_type_accuracy: 0.9949\n",
            "Epoch 149/180\n",
            "3155/3155 [==============================] - 0s 72us/sample - loss: 0.2743 - wine_quality_loss: 0.2568 - wine_type_loss: 0.0177 - wine_quality_root_mean_squared_error: 0.5066 - wine_type_accuracy: 0.9965 - val_loss: 0.3329 - val_wine_quality_loss: 0.3066 - val_wine_type_loss: 0.0257 - val_wine_quality_root_mean_squared_error: 0.5539 - val_wine_type_accuracy: 0.9949\n",
            "Epoch 150/180\n",
            "3155/3155 [==============================] - 0s 88us/sample - loss: 0.2741 - wine_quality_loss: 0.2568 - wine_type_loss: 0.0176 - wine_quality_root_mean_squared_error: 0.5063 - wine_type_accuracy: 0.9965 - val_loss: 0.3429 - val_wine_quality_loss: 0.3162 - val_wine_type_loss: 0.0257 - val_wine_quality_root_mean_squared_error: 0.5628 - val_wine_type_accuracy: 0.9949\n",
            "Epoch 151/180\n",
            "3155/3155 [==============================] - 0s 71us/sample - loss: 0.2728 - wine_quality_loss: 0.2549 - wine_type_loss: 0.0174 - wine_quality_root_mean_squared_error: 0.5053 - wine_type_accuracy: 0.9965 - val_loss: 0.3369 - val_wine_quality_loss: 0.3104 - val_wine_type_loss: 0.0256 - val_wine_quality_root_mean_squared_error: 0.5576 - val_wine_type_accuracy: 0.9949\n",
            "Epoch 152/180\n",
            "3155/3155 [==============================] - 0s 88us/sample - loss: 0.2723 - wine_quality_loss: 0.2548 - wine_type_loss: 0.0177 - wine_quality_root_mean_squared_error: 0.5048 - wine_type_accuracy: 0.9965 - val_loss: 0.3369 - val_wine_quality_loss: 0.3103 - val_wine_type_loss: 0.0257 - val_wine_quality_root_mean_squared_error: 0.5576 - val_wine_type_accuracy: 0.9949\n",
            "Epoch 153/180\n",
            "3155/3155 [==============================] - 0s 87us/sample - loss: 0.2724 - wine_quality_loss: 0.2551 - wine_type_loss: 0.0174 - wine_quality_root_mean_squared_error: 0.5050 - wine_type_accuracy: 0.9965 - val_loss: 0.3399 - val_wine_quality_loss: 0.3135 - val_wine_type_loss: 0.0256 - val_wine_quality_root_mean_squared_error: 0.5603 - val_wine_type_accuracy: 0.9949\n",
            "Epoch 154/180\n",
            "3155/3155 [==============================] - 0s 73us/sample - loss: 0.2723 - wine_quality_loss: 0.2549 - wine_type_loss: 0.0174 - wine_quality_root_mean_squared_error: 0.5049 - wine_type_accuracy: 0.9965 - val_loss: 0.3479 - val_wine_quality_loss: 0.3215 - val_wine_type_loss: 0.0256 - val_wine_quality_root_mean_squared_error: 0.5674 - val_wine_type_accuracy: 0.9949\n",
            "Epoch 155/180\n",
            "3155/3155 [==============================] - 0s 87us/sample - loss: 0.2707 - wine_quality_loss: 0.2538 - wine_type_loss: 0.0172 - wine_quality_root_mean_squared_error: 0.5035 - wine_type_accuracy: 0.9965 - val_loss: 0.3358 - val_wine_quality_loss: 0.3094 - val_wine_type_loss: 0.0256 - val_wine_quality_root_mean_squared_error: 0.5567 - val_wine_type_accuracy: 0.9949\n",
            "Epoch 156/180\n",
            "3155/3155 [==============================] - 0s 72us/sample - loss: 0.2706 - wine_quality_loss: 0.2534 - wine_type_loss: 0.0172 - wine_quality_root_mean_squared_error: 0.5033 - wine_type_accuracy: 0.9965 - val_loss: 0.3368 - val_wine_quality_loss: 0.3104 - val_wine_type_loss: 0.0256 - val_wine_quality_root_mean_squared_error: 0.5576 - val_wine_type_accuracy: 0.9949\n",
            "Epoch 157/180\n",
            "3155/3155 [==============================] - 0s 88us/sample - loss: 0.2707 - wine_quality_loss: 0.2536 - wine_type_loss: 0.0171 - wine_quality_root_mean_squared_error: 0.5036 - wine_type_accuracy: 0.9965 - val_loss: 0.3446 - val_wine_quality_loss: 0.3184 - val_wine_type_loss: 0.0257 - val_wine_quality_root_mean_squared_error: 0.5645 - val_wine_type_accuracy: 0.9949\n",
            "Epoch 158/180\n",
            "3155/3155 [==============================] - 0s 71us/sample - loss: 0.2706 - wine_quality_loss: 0.2530 - wine_type_loss: 0.0170 - wine_quality_root_mean_squared_error: 0.5035 - wine_type_accuracy: 0.9965 - val_loss: 0.3343 - val_wine_quality_loss: 0.3080 - val_wine_type_loss: 0.0255 - val_wine_quality_root_mean_squared_error: 0.5553 - val_wine_type_accuracy: 0.9949\n",
            "Epoch 159/180\n",
            "3155/3155 [==============================] - 0s 88us/sample - loss: 0.2686 - wine_quality_loss: 0.2518 - wine_type_loss: 0.0170 - wine_quality_root_mean_squared_error: 0.5016 - wine_type_accuracy: 0.9965 - val_loss: 0.3457 - val_wine_quality_loss: 0.3194 - val_wine_type_loss: 0.0256 - val_wine_quality_root_mean_squared_error: 0.5655 - val_wine_type_accuracy: 0.9949\n",
            "Epoch 160/180\n",
            "3155/3155 [==============================] - 0s 73us/sample - loss: 0.2680 - wine_quality_loss: 0.2508 - wine_type_loss: 0.0169 - wine_quality_root_mean_squared_error: 0.5011 - wine_type_accuracy: 0.9965 - val_loss: 0.3426 - val_wine_quality_loss: 0.3162 - val_wine_type_loss: 0.0254 - val_wine_quality_root_mean_squared_error: 0.5629 - val_wine_type_accuracy: 0.9949\n",
            "Epoch 161/180\n",
            "3155/3155 [==============================] - 0s 89us/sample - loss: 0.2694 - wine_quality_loss: 0.2522 - wine_type_loss: 0.0167 - wine_quality_root_mean_squared_error: 0.5025 - wine_type_accuracy: 0.9965 - val_loss: 0.3425 - val_wine_quality_loss: 0.3163 - val_wine_type_loss: 0.0254 - val_wine_quality_root_mean_squared_error: 0.5628 - val_wine_type_accuracy: 0.9949\n",
            "Epoch 162/180\n",
            "3155/3155 [==============================] - 0s 88us/sample - loss: 0.2673 - wine_quality_loss: 0.2503 - wine_type_loss: 0.0167 - wine_quality_root_mean_squared_error: 0.5006 - wine_type_accuracy: 0.9965 - val_loss: 0.3389 - val_wine_quality_loss: 0.3128 - val_wine_type_loss: 0.0255 - val_wine_quality_root_mean_squared_error: 0.5595 - val_wine_type_accuracy: 0.9949\n",
            "Epoch 163/180\n",
            "3155/3155 [==============================] - 0s 73us/sample - loss: 0.2680 - wine_quality_loss: 0.2513 - wine_type_loss: 0.0167 - wine_quality_root_mean_squared_error: 0.5013 - wine_type_accuracy: 0.9965 - val_loss: 0.3452 - val_wine_quality_loss: 0.3190 - val_wine_type_loss: 0.0255 - val_wine_quality_root_mean_squared_error: 0.5652 - val_wine_type_accuracy: 0.9949\n",
            "Epoch 164/180\n",
            "3155/3155 [==============================] - 0s 87us/sample - loss: 0.2679 - wine_quality_loss: 0.2507 - wine_type_loss: 0.0166 - wine_quality_root_mean_squared_error: 0.5013 - wine_type_accuracy: 0.9965 - val_loss: 0.3365 - val_wine_quality_loss: 0.3104 - val_wine_type_loss: 0.0254 - val_wine_quality_root_mean_squared_error: 0.5575 - val_wine_type_accuracy: 0.9949\n",
            "Epoch 165/180\n",
            "3155/3155 [==============================] - 0s 72us/sample - loss: 0.2678 - wine_quality_loss: 0.2510 - wine_type_loss: 0.0165 - wine_quality_root_mean_squared_error: 0.5013 - wine_type_accuracy: 0.9965 - val_loss: 0.3360 - val_wine_quality_loss: 0.3101 - val_wine_type_loss: 0.0253 - val_wine_quality_root_mean_squared_error: 0.5571 - val_wine_type_accuracy: 0.9949\n",
            "Epoch 166/180\n",
            "3155/3155 [==============================] - 0s 87us/sample - loss: 0.2663 - wine_quality_loss: 0.2498 - wine_type_loss: 0.0164 - wine_quality_root_mean_squared_error: 0.4999 - wine_type_accuracy: 0.9965 - val_loss: 0.3418 - val_wine_quality_loss: 0.3159 - val_wine_type_loss: 0.0253 - val_wine_quality_root_mean_squared_error: 0.5623 - val_wine_type_accuracy: 0.9949\n",
            "Epoch 167/180\n",
            "3155/3155 [==============================] - 0s 73us/sample - loss: 0.2661 - wine_quality_loss: 0.2497 - wine_type_loss: 0.0163 - wine_quality_root_mean_squared_error: 0.4997 - wine_type_accuracy: 0.9965 - val_loss: 0.3337 - val_wine_quality_loss: 0.3077 - val_wine_type_loss: 0.0253 - val_wine_quality_root_mean_squared_error: 0.5551 - val_wine_type_accuracy: 0.9949\n",
            "Epoch 168/180\n",
            "3155/3155 [==============================] - 0s 87us/sample - loss: 0.2658 - wine_quality_loss: 0.2495 - wine_type_loss: 0.0163 - wine_quality_root_mean_squared_error: 0.4995 - wine_type_accuracy: 0.9965 - val_loss: 0.3401 - val_wine_quality_loss: 0.3141 - val_wine_type_loss: 0.0253 - val_wine_quality_root_mean_squared_error: 0.5608 - val_wine_type_accuracy: 0.9949\n",
            "Epoch 169/180\n",
            "3155/3155 [==============================] - 0s 72us/sample - loss: 0.2653 - wine_quality_loss: 0.2498 - wine_type_loss: 0.0162 - wine_quality_root_mean_squared_error: 0.4990 - wine_type_accuracy: 0.9965 - val_loss: 0.3576 - val_wine_quality_loss: 0.3314 - val_wine_type_loss: 0.0254 - val_wine_quality_root_mean_squared_error: 0.5761 - val_wine_type_accuracy: 0.9949\n",
            "Epoch 170/180\n",
            "3155/3155 [==============================] - 0s 87us/sample - loss: 0.2645 - wine_quality_loss: 0.2480 - wine_type_loss: 0.0168 - wine_quality_root_mean_squared_error: 0.4983 - wine_type_accuracy: 0.9965 - val_loss: 0.3372 - val_wine_quality_loss: 0.3109 - val_wine_type_loss: 0.0253 - val_wine_quality_root_mean_squared_error: 0.5582 - val_wine_type_accuracy: 0.9949\n",
            "Epoch 171/180\n",
            "3155/3155 [==============================] - 0s 71us/sample - loss: 0.2652 - wine_quality_loss: 0.2486 - wine_type_loss: 0.0161 - wine_quality_root_mean_squared_error: 0.4991 - wine_type_accuracy: 0.9965 - val_loss: 0.3412 - val_wine_quality_loss: 0.3151 - val_wine_type_loss: 0.0252 - val_wine_quality_root_mean_squared_error: 0.5618 - val_wine_type_accuracy: 0.9949\n",
            "Epoch 172/180\n",
            "3155/3155 [==============================] - 0s 87us/sample - loss: 0.2648 - wine_quality_loss: 0.2484 - wine_type_loss: 0.0160 - wine_quality_root_mean_squared_error: 0.4987 - wine_type_accuracy: 0.9965 - val_loss: 0.3342 - val_wine_quality_loss: 0.3085 - val_wine_type_loss: 0.0251 - val_wine_quality_root_mean_squared_error: 0.5557 - val_wine_type_accuracy: 0.9949\n",
            "Epoch 173/180\n",
            "3155/3155 [==============================] - 0s 86us/sample - loss: 0.2636 - wine_quality_loss: 0.2479 - wine_type_loss: 0.0159 - wine_quality_root_mean_squared_error: 0.4976 - wine_type_accuracy: 0.9965 - val_loss: 0.3443 - val_wine_quality_loss: 0.3185 - val_wine_type_loss: 0.0252 - val_wine_quality_root_mean_squared_error: 0.5646 - val_wine_type_accuracy: 0.9949\n",
            "Epoch 174/180\n",
            "3155/3155 [==============================] - 0s 75us/sample - loss: 0.2648 - wine_quality_loss: 0.2489 - wine_type_loss: 0.0159 - wine_quality_root_mean_squared_error: 0.4988 - wine_type_accuracy: 0.9965 - val_loss: 0.3419 - val_wine_quality_loss: 0.3158 - val_wine_type_loss: 0.0252 - val_wine_quality_root_mean_squared_error: 0.5625 - val_wine_type_accuracy: 0.9949\n",
            "Epoch 175/180\n",
            "3155/3155 [==============================] - 0s 89us/sample - loss: 0.2639 - wine_quality_loss: 0.2485 - wine_type_loss: 0.0158 - wine_quality_root_mean_squared_error: 0.4980 - wine_type_accuracy: 0.9965 - val_loss: 0.3405 - val_wine_quality_loss: 0.3146 - val_wine_type_loss: 0.0251 - val_wine_quality_root_mean_squared_error: 0.5613 - val_wine_type_accuracy: 0.9949\n",
            "Epoch 176/180\n",
            "3155/3155 [==============================] - 0s 73us/sample - loss: 0.2629 - wine_quality_loss: 0.2470 - wine_type_loss: 0.0157 - wine_quality_root_mean_squared_error: 0.4971 - wine_type_accuracy: 0.9965 - val_loss: 0.3382 - val_wine_quality_loss: 0.3122 - val_wine_type_loss: 0.0250 - val_wine_quality_root_mean_squared_error: 0.5594 - val_wine_type_accuracy: 0.9949\n",
            "Epoch 177/180\n",
            "3155/3155 [==============================] - 0s 88us/sample - loss: 0.2627 - wine_quality_loss: 0.2470 - wine_type_loss: 0.0156 - wine_quality_root_mean_squared_error: 0.4970 - wine_type_accuracy: 0.9965 - val_loss: 0.3367 - val_wine_quality_loss: 0.3109 - val_wine_type_loss: 0.0251 - val_wine_quality_root_mean_squared_error: 0.5580 - val_wine_type_accuracy: 0.9949\n",
            "Epoch 178/180\n",
            "3155/3155 [==============================] - 0s 86us/sample - loss: 0.2627 - wine_quality_loss: 0.2468 - wine_type_loss: 0.0156 - wine_quality_root_mean_squared_error: 0.4970 - wine_type_accuracy: 0.9965 - val_loss: 0.3392 - val_wine_quality_loss: 0.3135 - val_wine_type_loss: 0.0251 - val_wine_quality_root_mean_squared_error: 0.5601 - val_wine_type_accuracy: 0.9949\n",
            "Epoch 179/180\n",
            "3155/3155 [==============================] - 0s 73us/sample - loss: 0.2626 - wine_quality_loss: 0.2471 - wine_type_loss: 0.0155 - wine_quality_root_mean_squared_error: 0.4969 - wine_type_accuracy: 0.9965 - val_loss: 0.3395 - val_wine_quality_loss: 0.3139 - val_wine_type_loss: 0.0251 - val_wine_quality_root_mean_squared_error: 0.5605 - val_wine_type_accuracy: 0.9949\n",
            "Epoch 180/180\n",
            "3155/3155 [==============================] - 0s 86us/sample - loss: 0.2617 - wine_quality_loss: 0.2461 - wine_type_loss: 0.0155 - wine_quality_root_mean_squared_error: 0.4962 - wine_type_accuracy: 0.9965 - val_loss: 0.3458 - val_wine_quality_loss: 0.3197 - val_wine_type_loss: 0.0252 - val_wine_quality_root_mean_squared_error: 0.5659 - val_wine_type_accuracy: 0.9949\n"
          ],
          "name": "stdout"
        }
      ]
    },
    {
      "cell_type": "code",
      "metadata": {
        "deletable": false,
        "editable": false,
        "nbgrader": {
          "cell_type": "code",
          "checksum": "fadad8896eda9c8c2115970724b15508",
          "grade": true,
          "grade_id": "cell-eb4d5b41bef8f0ab",
          "locked": true,
          "points": 1,
          "schema_version": 3,
          "solution": false,
          "task": false
        },
        "id": "yWmToX0fDlwg",
        "outputId": "dc216f40-989e-4eac-f4e0-1de02980a04b"
      },
      "source": [
        "utils.test_history(history)"
      ],
      "execution_count": null,
      "outputs": [
        {
          "output_type": "stream",
          "text": [
            "\u001b[92m All public tests passed\n"
          ],
          "name": "stdout"
        }
      ]
    },
    {
      "cell_type": "code",
      "metadata": {
        "id": "CubF2J2gSf6q",
        "outputId": "7d7b2db3-14de-42df-adcc-573dea76ec0d"
      },
      "source": [
        "# Gather the training metrics\n",
        "loss, wine_quality_loss, wine_type_loss, wine_quality_rmse, wine_type_accuracy = model.evaluate(x=norm_val_X, y=val_Y)\n",
        "\n",
        "print()\n",
        "print(f'loss: {loss}')\n",
        "print(f'wine_quality_loss: {wine_quality_loss}')\n",
        "print(f'wine_type_loss: {wine_type_loss}')\n",
        "print(f'wine_quality_rmse: {wine_quality_rmse}')\n",
        "print(f'wine_type_accuracy: {wine_type_accuracy}')\n",
        "\n",
        "# EXPECTED VALUES\n",
        "# ~ 0.30 - 0.38\n",
        "# ~ 0.30 - 0.38\n",
        "# ~ 0.018 - 0.030\n",
        "# ~ 0.50 - 0.62\n",
        "# ~ 0.97 - 1.0\n",
        "\n",
        "# Example:\n",
        "#0.3657050132751465\n",
        "#0.3463745415210724\n",
        "#0.019330406561493874\n",
        "#0.5885359048843384\n",
        "#0.9974651336669922"
      ],
      "execution_count": null,
      "outputs": [
        {
          "output_type": "stream",
          "text": [
            "789/789 [==============================] - 0s 21us/sample - loss: 0.3458 - wine_quality_loss: 0.3197 - wine_type_loss: 0.0252 - wine_quality_root_mean_squared_error: 0.5659 - wine_type_accuracy: 0.9949\n",
            "\n",
            "loss: 0.3457619914234969\n",
            "wine_quality_loss: 0.3196817636489868\n",
            "wine_type_loss: 0.025161204859614372\n",
            "wine_quality_rmse: 0.565926194190979\n",
            "wine_type_accuracy: 0.9949302673339844\n"
          ],
          "name": "stdout"
        }
      ]
    },
    {
      "cell_type": "markdown",
      "metadata": {
        "id": "gPtTGAP4usnm"
      },
      "source": [
        "## Analyze the Model Performance\n",
        "\n",
        "Note that the model has two outputs. The output at index 0 is quality and index 1 is wine type\n",
        "\n",
        "So, round the quality predictions to the nearest integer."
      ]
    },
    {
      "cell_type": "code",
      "metadata": {
        "id": "tBq9PEeAaW-Y"
      },
      "source": [
        "predictions = model.predict(norm_test_X)\n",
        "quality_pred = predictions[0]\n",
        "type_pred = predictions[1]"
      ],
      "execution_count": null,
      "outputs": []
    },
    {
      "cell_type": "code",
      "metadata": {
        "id": "YLhgTR4xTIxj",
        "outputId": "73c002ae-68ca-4c42-abb0-381182a086aa"
      },
      "source": [
        "print(quality_pred[0])\n",
        "\n",
        "# EXPECTED OUTPUT\n",
        "# 5.6 - 6.0"
      ],
      "execution_count": null,
      "outputs": [
        {
          "output_type": "stream",
          "text": [
            "[5.786177]\n"
          ],
          "name": "stdout"
        }
      ]
    },
    {
      "cell_type": "code",
      "metadata": {
        "id": "MPi-eYfGTUXi",
        "outputId": "4c7a0be1-4913-4bfe-9a21-b0d31a9d7ece"
      },
      "source": [
        "print(type_pred[0])\n",
        "print(type_pred[944])\n",
        "\n",
        "# EXPECTED OUTPUT\n",
        "# A number close to zero\n",
        "# A number close to or equal to 1"
      ],
      "execution_count": null,
      "outputs": [
        {
          "output_type": "stream",
          "text": [
            "[0.00077365]\n",
            "[0.9999876]\n"
          ],
          "name": "stdout"
        }
      ]
    },
    {
      "cell_type": "markdown",
      "metadata": {
        "id": "Kohk-9C6vt_s"
      },
      "source": [
        "### Plot Utilities\n",
        "\n",
        "We define a few utilities to visualize the model performance."
      ]
    },
    {
      "cell_type": "code",
      "metadata": {
        "id": "62gEOFUhn6aQ"
      },
      "source": [
        "def plot_metrics(metric_name, title, ylim=5):\n",
        "    plt.title(title)\n",
        "    plt.ylim(0,ylim)\n",
        "    plt.plot(history.history[metric_name],color='blue',label=metric_name)\n",
        "    plt.plot(history.history['val_' + metric_name],color='green',label='val_' + metric_name)\n"
      ],
      "execution_count": null,
      "outputs": []
    },
    {
      "cell_type": "code",
      "metadata": {
        "id": "6rfgSx7uz5dj"
      },
      "source": [
        "def plot_confusion_matrix(y_true, y_pred, title='', labels=[0,1]):\n",
        "    cm = confusion_matrix(y_true, y_pred)\n",
        "    fig = plt.figure()\n",
        "    ax = fig.add_subplot(111)\n",
        "    cax = ax.matshow(cm)\n",
        "    plt.title('Confusion matrix of the classifier')\n",
        "    fig.colorbar(cax)\n",
        "    ax.set_xticklabels([''] + labels)\n",
        "    ax.set_yticklabels([''] + labels)\n",
        "    plt.xlabel('Predicted')\n",
        "    plt.ylabel('True')\n",
        "    fmt = 'd'\n",
        "    thresh = cm.max() / 2.\n",
        "    for i, j in itertools.product(range(cm.shape[0]), range(cm.shape[1])):\n",
        "          plt.text(j, i, format(cm[i, j], fmt),\n",
        "                  horizontalalignment=\"center\",\n",
        "                  color=\"black\" if cm[i, j] > thresh else \"white\")\n",
        "    plt.show()"
      ],
      "execution_count": null,
      "outputs": []
    },
    {
      "cell_type": "code",
      "metadata": {
        "id": "dfVLIqi017Vf"
      },
      "source": [
        "def plot_diff(y_true, y_pred, title = '' ):\n",
        "    plt.scatter(y_true, y_pred)\n",
        "    plt.title(title)\n",
        "    plt.xlabel('True Values')\n",
        "    plt.ylabel('Predictions')\n",
        "    plt.axis('equal')\n",
        "    plt.axis('square')\n",
        "    plt.plot([-100, 100], [-100, 100])\n",
        "    return plt"
      ],
      "execution_count": null,
      "outputs": []
    },
    {
      "cell_type": "markdown",
      "metadata": {
        "id": "8sd1jdFbwE0I"
      },
      "source": [
        "### Plots for Metrics"
      ]
    },
    {
      "cell_type": "code",
      "metadata": {
        "id": "f3MwZ5J1pOfj",
        "outputId": "0db616ee-b2cf-4959-e4b1-6d73bbf69817"
      },
      "source": [
        "plot_metrics('wine_quality_root_mean_squared_error', 'RMSE', ylim=2)"
      ],
      "execution_count": null,
      "outputs": [
        {
          "output_type": "display_data",
          "data": {
            "image/png": "[encoded data removed]",
            "text/plain": [
              "<Figure size 432x288 with 1 Axes>"
            ]
          },
          "metadata": {
            "tags": [],
            "needs_background": "light"
          }
        }
      ]
    },
    {
      "cell_type": "code",
      "metadata": {
        "id": "QIAxEezCppnd",
        "outputId": "d5dbc9d9-7eaf-473d-eae7-e741c7d30df3"
      },
      "source": [
        "plot_metrics('wine_type_loss', 'Wine Type Loss', ylim=0.2)"
      ],
      "execution_count": null,
      "outputs": [
        {
          "output_type": "display_data",
          "data": {
            "image/png": "[encoded data removed]",
            "text/plain": [
              "<Figure size 432x288 with 1 Axes>"
            ]
          },
          "metadata": {
            "tags": [],
            "needs_background": "light"
          }
        }
      ]
    },
    {
      "cell_type": "markdown",
      "metadata": {
        "id": "uYV9AOAMwI9p"
      },
      "source": [
        "### Plots for Confusion Matrix\n",
        "\n",
        "Plot the confusion matrices for wine type. You can see that the model performs well for prediction of wine type from the confusion matrix and the loss metrics."
      ]
    },
    {
      "cell_type": "code",
      "metadata": {
        "id": "C3hvTYxIaf3n",
        "outputId": "860f1523-2708-44c2-8964-479785d14972"
      },
      "source": [
        "plot_confusion_matrix(test_Y[1], np.round(type_pred), title='Wine Type', labels = [0, 1])"
      ],
      "execution_count": null,
      "outputs": [
        {
          "output_type": "display_data",
          "data": {
            "image/png": "[encoded data removed]",
            "text/plain": [
              "<Figure size 432x288 with 2 Axes>"
            ]
          },
          "metadata": {
            "tags": [],
            "needs_background": "light"
          }
        }
      ]
    },
    {
      "cell_type": "code",
      "metadata": {
        "id": "GW91ym8P2I5y",
        "outputId": "cb1411de-10bf-4885-d7f1-5d41dbb03e6b"
      },
      "source": [
        "scatter_plot = plot_diff(test_Y[0], quality_pred, title='Type')"
      ],
      "execution_count": null,
      "outputs": [
        {
          "output_type": "display_data",
          "data": {
            "image/png": "[encoded data removed]",
            "text/plain": [
              "<Figure size 432x288 with 1 Axes>"
            ]
          },
          "metadata": {
            "tags": [],
            "needs_background": "light"
          }
        }
      ]
    },
    {
      "cell_type": "code",
      "metadata": {
        "id": "I5vjwC-VDlwn"
      },
      "source": [
        ""
      ],
      "execution_count": null,
      "outputs": []
    }
  ]
}